{
  "nbformat": 4,
  "nbformat_minor": 0,
  "metadata": {
    "colab": {
      "provenance": []
    },
    "kernelspec": {
      "name": "python3",
      "display_name": "Python 3"
    },
    "language_info": {
      "name": "python"
    }
  },
  "cells": [
    {
      "cell_type": "markdown",
      "source": [
        "Q.1 :-  Create a function which will take a list as an argument and return the product of all the numbers\n",
        "after creating a flat list.\n",
        "\n",
        "Use the below-given list as an argument for your function.\n",
        "\n",
        "\n",
        "list1 = [1,2,3,4, [44,55,66, True], False, (34,56,78,89,34), {1,2,3,3,2,1}, {1:34, \"key2\": [55, 67, 78, 89], 4: (45,\n",
        "22, 61, 34)}, [56, 'data science'], 'Machine Learning']\n",
        "\n",
        "\n",
        "Note: you must extract numeric keys and values of the dictionary also\n"
      ],
      "metadata": {
        "id": "QjaClLoDqgQS"
      }
    },
    {
      "cell_type": "code",
      "source": [
        "def extract_numeric_values(data):\n",
        "    numeric_values = []\n",
        "\n",
        "    # Helper function to recursively extract numeric values\n",
        "    def extract_numeric_helper(item):\n",
        "        if isinstance(item, (int, float)):\n",
        "            numeric_values.append(item)\n",
        "        elif isinstance(item, list) or isinstance(item, tuple):\n",
        "            for element in item:\n",
        "                extract_numeric_helper(element)\n",
        "        elif isinstance(item, dict):\n",
        "            for value in item.values():\n",
        "                extract_numeric_helper(value)\n",
        "        elif isinstance(item, set):\n",
        "            for value in item:\n",
        "                if isinstance(value, (int, float)):\n",
        "                    numeric_values.append(value)\n",
        "\n",
        "    # Iterate through the list to extract numeric values\n",
        "    for element in data:\n",
        "        extract_numeric_helper(element)\n",
        "\n",
        "    return numeric_values\n",
        "\n",
        "def product_of_numeric_values(data):\n",
        "    numeric_values = extract_numeric_values(data)\n",
        "    product = 1\n",
        "    for num in numeric_values:\n",
        "        product *= num\n",
        "    return product\n",
        "\n",
        "# Given list\n",
        "list1 = [1,2,3,4, [44,55,66, True], False, (34,56,78,89,34), {1,2,3,3,2,1}, {1:34, \"key2\": [55, 67, 78, 89], 4: (45,\n",
        "22, 61, 34)}, [56, 'data science'], 'Machine Learning']\n",
        "\n",
        "# Calculate the product of all numeric values\n",
        "result = product_of_numeric_values(list1)\n",
        "print(\"Product of all numeric values:\", result)\n"
      ],
      "metadata": {
        "colab": {
          "base_uri": "https://localhost:8080/"
        },
        "id": "oeK6OkMNquWF",
        "outputId": "4604c79c-4094-4ce9-fb36-ea712c452f2e"
      },
      "execution_count": 1,
      "outputs": [
        {
          "output_type": "stream",
          "name": "stdout",
          "text": [
            "Product of all numeric values: 0\n"
          ]
        }
      ]
    },
    {
      "cell_type": "markdown",
      "source": [
        "Q.2 :-  Write a python program for encrypting a message sent to you by your friend. The logic of encryption\n",
        "should be such that, for a the output should be z. For b, the output should be y. For c, the output should\n",
        "be x respectively. Also, the whitespace should be replaced with a dollar sign. Keep the punctuation\n",
        "marks unchanged.\n",
        "\n",
        "\n",
        "Input Sentence: I want to become a Data Scientist.\n",
        "\n",
        "\n",
        "Encrypt the above input sentence using the program you just created.\n",
        "\n",
        "\n",
        "Note: Convert the given input sentence into lowercase before encrypting. The final output should be\n",
        "lowercase.\n"
      ],
      "metadata": {
        "id": "qOCcS6DRseaY"
      }
    },
    {
      "cell_type": "code",
      "source": [
        "def encrypt_message(message):\n",
        "    encrypted_message = \"\"\n",
        "    for char in message:\n",
        "        if char.isalpha():\n",
        "            if char.islower():\n",
        "                encrypted_char = chr(219 - ord(char))\n",
        "                encrypted_message += encrypted_char\n",
        "            else:\n",
        "                encrypted_char = chr(155 - ord(char))\n",
        "                encrypted_message += encrypted_char\n",
        "        elif char == ' ':\n",
        "            encrypted_message += '$'\n",
        "        else:\n",
        "            encrypted_message += char\n",
        "    return encrypted_message\n",
        "\n",
        "# Input sentence\n",
        "input_sentence = \"I want to become a Data Scientist.\"\n",
        "\n",
        "# Convert the input sentence to lowercase\n",
        "input_sentence = input_sentence.lower()\n",
        "\n",
        "# Encrypt the input sentence\n",
        "encrypted_sentence = encrypt_message(input_sentence)\n",
        "\n",
        "# Output the encrypted sentence\n",
        "print(\"Encrypted Message:\", encrypted_sentence)\n"
      ],
      "metadata": {
        "colab": {
          "base_uri": "https://localhost:8080/"
        },
        "id": "4-NPgfO_tMDc",
        "outputId": "ce90017d-d1ee-4b8d-92db-da90aba12076"
      },
      "execution_count": 2,
      "outputs": [
        {
          "output_type": "stream",
          "name": "stdout",
          "text": [
            "Encrypted Message: r$dzmg$gl$yvxlnv$z$wzgz$hxrvmgrhg.\n"
          ]
        }
      ]
    }
  ]
}