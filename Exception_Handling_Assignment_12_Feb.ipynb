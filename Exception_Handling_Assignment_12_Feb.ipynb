{
  "nbformat": 4,
  "nbformat_minor": 0,
  "metadata": {
    "colab": {
      "provenance": []
    },
    "kernelspec": {
      "name": "python3",
      "display_name": "Python 3"
    },
    "language_info": {
      "name": "python"
    }
  },
  "cells": [
    {
      "cell_type": "markdown",
      "source": [
        "Q.1 : - What is an Exception in python ? Write the difference between Exceptions and Syntax errors ."
      ],
      "metadata": {
        "id": "e9RXOSqIeRBW"
      }
    },
    {
      "cell_type": "markdown",
      "source": [
        "Answer : - In Python, an exception is an error that occurs during the execution of a program. When a statement or expression in Python cannot be executed properly, Python raises an exception, which can be caught and handled by the program to prevent it from crashing or terminating unexpectedly.\n",
        "\n",
        "Exceptions can occur due to various reasons, such as:\n",
        "\n",
        "\n"
      ],
      "metadata": {
        "id": "fQIPhPVifsRp"
      }
    },
    {
      "cell_type": "markdown",
      "source": [
        "Division by zero\n",
        "\n",
        "Trying to access an index that is out of range in a list\n",
        "\n",
        "Opening a file that does not exist\n",
        "\n",
        "Type errors\n",
        "\n",
        "Name errors, etc.\n",
        "\n",
        "Here's a brief difference between exceptions and syntax errors:\n",
        "\n",
        "Exceptions:\n",
        "\n",
        "Exceptions occur during the execution of a program.\n",
        "\n",
        "They are runtime errors.\n",
        "\n",
        "Examples include ZeroDivisionError, IndexError, FileNotFoundError, TypeError,\n",
        " etc.\n",
        "\n",
        "Exceptions can be caught and handled using try-except blocks.\n",
        "\n",
        "Syntax Errors:\n",
        "\n",
        "Syntax errors occur during the parsing of code.\n",
        "\n",
        "They are detected by the Python interpreter before the program is executed.\n",
        "\n",
        "Syntax errors are caused by invalid Python syntax.\n",
        "\n",
        "Examples include missing colons, unmatched parentheses, incorrect indentation, etc.\n",
        "\n",
        "The program cannot run until syntax errors are fixed.\n",
        "\n",
        "In summary, exceptions occur during the execution of the program when something goes wrong, while syntax errors occur before the program runs due to incorrect Python syntax.\n",
        "\n",
        "\n",
        "\n",
        "\n"
      ],
      "metadata": {
        "id": "dkigYUGDgk3r"
      }
    },
    {
      "cell_type": "markdown",
      "source": [
        "Q2. What\n",
        " happens when\n",
        "an exception is not handled? Explain with\n",
        "an examples."
      ],
      "metadata": {
        "id": "uUdrU9wLhXmG"
      }
    },
    {
      "cell_type": "markdown",
      "source": [
        "Answer : - When an exception is not handled in Python, it propagates up the call stack until it reaches the top level of the program. If no code catches the exception along the way, the program terminates abruptly, and an error message is displayed, indicating the type of exception that occurred along with a traceback showing the sequence of function calls that led to the exception.\n",
        "\n",
        "Here's an example to illustrate what happens when an exception is not handled"
      ],
      "metadata": {
        "id": "0ai1I6xNiJDg"
      }
    },
    {
      "cell_type": "code",
      "source": [
        "def divide(x, y):\n",
        "    result = x / y\n",
        "    return result\n",
        "\n",
        "def main():\n",
        "    num1 = int(input(\"Enter the numerator: \"))\n",
        "    num2 = int(input(\"Enter the denominator: \"))\n",
        "    result = divide(num1, num2)\n",
        "    print(\"Result of division:\", result)\n",
        "\n",
        "if __name__ == \"__main__\":\n",
        "    main()\n"
      ],
      "metadata": {
        "id": "SlGmy3KSjAAm"
      },
      "execution_count": null,
      "outputs": []
    },
    {
      "cell_type": "markdown",
      "source": [
        "Let's say the user enters 5 as the numerator and 0 as the denominator. When the divide() function is called with a denominator of 0, a ZeroDivisionError exception occurs since division by zero is not allowed.\n",
        "\n",
        "\n",
        "If this exception is not handled, the program will terminate abruptly with an error message like this:"
      ],
      "metadata": {
        "id": "HUKoozCNjDEs"
      }
    },
    {
      "cell_type": "code",
      "source": [
        "Enter the numerator: 5\n",
        "Enter the denominator: 0\n",
        "Traceback (most recent call last):\n",
        "  File \"example.py\", line 11, in <module>\n",
        "    main()\n",
        "  File \"example.py\", line 7, in main\n",
        "    result = divide(num1, num2)\n",
        "  File \"example.py\", line 2, in divide\n",
        "    result = x / y\n",
        "ZeroDivisionError: division by zero\n"
      ],
      "metadata": {
        "id": "j5EB8WNpjNEj"
      },
      "execution_count": null,
      "outputs": []
    },
    {
      "cell_type": "markdown",
      "source": [
        "As you can see from the traceback, the exception propagates up the call stack, starting from the point where the exception occurred (divide() function) up to the top level of the program (main() function), and the program terminates due to the unhandled exception.\n",
        "\n",
        "\n",
        "\n",
        "\n",
        "In real-world applications, it's essential to handle exceptions gracefully to prevent unexpected program terminations and provide better error messages or fallback mechanisms for the user. This is typically done using try-except blocks to catch specific exceptions and handle them appropriately."
      ],
      "metadata": {
        "id": "onMooS6WjQ78"
      }
    },
    {
      "cell_type": "markdown",
      "source": [
        "Q3. Which Python staements\n",
        "are used to ,\n",
        "catch\n",
        "and handle exceptions? Explain with\n",
        "an example"
      ],
      "metadata": {
        "id": "Xg6HO0tejo9J"
      }
    },
    {
      "cell_type": "markdown",
      "source": [
        "Answer :-  In Python, the try-except statement is used to catch and handle exceptions. It allows you to define a block of code that may raise exceptions, and then specify how to handle those exceptions gracefully.\n",
        "\n",
        "Here's the basic syntax of the try-except statement:"
      ],
      "metadata": {
        "id": "7zr5cGT7kxI6"
      }
    },
    {
      "cell_type": "code",
      "source": [
        "try:\n",
        "    # Block of code that may raise exceptions\n",
        "    # Your code goes here\n",
        "except ExceptionType:\n",
        "    # Block of code to handle the exception\n",
        "    # Your handling code goes here\n"
      ],
      "metadata": {
        "id": "QdXb0lOOlitF"
      },
      "execution_count": null,
      "outputs": []
    },
    {
      "cell_type": "markdown",
      "source": [
        "The try block contains the code that might raise an exception.\n",
        "If an exception occurs within the try block, Python looks for an except block with a matching exception type.\n",
        "If a matching except block is found, the code inside the except block is executed to handle the exception.\n",
        "If no matching except block is found, the exception propagates up the call stack to the next level of the program or terminates the program if not handled.\n",
        "\n",
        "Here's an example demonstrating the use of try-except statement:"
      ],
      "metadata": {
        "id": "y0bRdL0llnYB"
      }
    },
    {
      "cell_type": "code",
      "source": [
        "def divide(x, y):\n",
        "    try:\n",
        "        result = x / y\n",
        "    except ZeroDivisionError:\n",
        "        print(\"Error: Division by zero is not allowed\")\n",
        "        return None\n",
        "    else:\n",
        "        return result\n",
        "\n",
        "def main():\n",
        "    num1 = int(input(\"Enter the numerator: \"))\n",
        "    num2 = int(input(\"Enter the denominator: \"))\n",
        "    result = divide(num1, num2)\n",
        "    if result is not None:\n",
        "        print(\"Result of division:\", result)\n",
        "\n",
        "if __name__ == \"__main__\":\n",
        "    main()\n"
      ],
      "metadata": {
        "id": "QS2M-4BilwqP"
      },
      "execution_count": null,
      "outputs": []
    },
    {
      "cell_type": "markdown",
      "source": [
        "The divide() function attempts to perform division operation inside a try block.\n",
        "If the division operation raises a ZeroDivisionError, the code inside the corresponding except ZeroDivisionError block is executed, which prints an error message and returns None.\n",
        "If no exception occurs, the code inside the else block is executed, and the result of the division is returned.\n",
        "In the main() function, the result of the division is printed only if it's not None.\n",
        "\n",
        "This way, the program gracefully handles the ZeroDivisionError exception and continues execution without terminating unexpectedly."
      ],
      "metadata": {
        "id": "cMQ3VixalzRh"
      }
    },
    {
      "cell_type": "markdown",
      "source": [
        "Q.4 : - Explain with an Example .\n",
        "\n",
        "a. try and else\n",
        "\n",
        "b. finally\n",
        "\n",
        "c. raise\n",
        "\n"
      ],
      "metadata": {
        "id": "_uc5zUlZl51C"
      }
    },
    {
      "cell_type": "markdown",
      "source": [
        "Answer :-  a. try, except, and else:\n",
        "The try, except, and else blocks are used together to handle exceptions gracefully and execute code when no exceptions occur.\n",
        "\n"
      ],
      "metadata": {
        "id": "t87VdfF7sue4"
      }
    },
    {
      "cell_type": "code",
      "source": [
        "def divide(x, y):\n",
        "    try:\n",
        "        result = x / y\n",
        "    except ZeroDivisionError:\n",
        "        print(\"Error: Division by zero is not allowed\")\n",
        "    else:\n",
        "        print(\"Division successful\")\n",
        "        return result\n",
        "    finally:\n",
        "        print(\"Finally block always executes\")\n",
        "\n",
        "# Test the function\n",
        "print(divide(10, 2))  # Output: Division successful, Finally block always executes, 5.0\n",
        "print(divide(10, 0))  # Output: Error: Division by zero is not allowed, Finally block always executes, None\n"
      ],
      "metadata": {
        "colab": {
          "base_uri": "https://localhost:8080/"
        },
        "id": "6e2sseGgt4US",
        "outputId": "e1f4c10a-8a1d-4ab6-c50e-83a8b4058cfe"
      },
      "execution_count": 1,
      "outputs": [
        {
          "output_type": "stream",
          "name": "stdout",
          "text": [
            "Division successful\n",
            "Finally block always executes\n",
            "5.0\n",
            "Error: Division by zero is not allowed\n",
            "Finally block always executes\n",
            "None\n"
          ]
        }
      ]
    },
    {
      "cell_type": "markdown",
      "source": [
        "The try block contains the code that may raise an exception.\n",
        "\n",
        "If an exception occurs (e.g., division by zero), the code inside the except block is executed.\n",
        "\n",
        "If no exception occurs, the code inside the else block is executed.\n",
        "\n",
        "The finally block always executes, regardless of whether an exception occurred or not. It is commonly used for cleanup tasks."
      ],
      "metadata": {
        "id": "iEwKd7TouEhl"
      }
    },
    {
      "cell_type": "markdown",
      "source": [
        "b. finally:\n",
        "\n",
        "The finally block is used to execute code that must run whether an exception occurs or not. It's commonly used for cleanup tasks such as closing files or releasing resources."
      ],
      "metadata": {
        "id": "2-Wq80ExuVgr"
      }
    },
    {
      "cell_type": "code",
      "source": [
        "try:\n",
        "    f = open(\"example.txt\", \"r\")\n",
        "    try:\n",
        "        # Perform operations with the file\n",
        "        print(f.read())\n",
        "    finally:\n",
        "        f.close()  # Close the file in any case\n",
        "except FileNotFoundError:\n",
        "    print(\"File not found\")\n"
      ],
      "metadata": {
        "colab": {
          "base_uri": "https://localhost:8080/"
        },
        "id": "cyaPlD1suabc",
        "outputId": "b25e7e4d-24e9-4b95-88ea-aa7165dcc592"
      },
      "execution_count": 2,
      "outputs": [
        {
          "output_type": "stream",
          "name": "stdout",
          "text": [
            "File not found\n"
          ]
        }
      ]
    },
    {
      "cell_type": "markdown",
      "source": [
        "The try block attempts to open and read a file.\n",
        "\n",
        "Regardless of whether the file is opened successfully or an exception occurs, the finally block ensures that the file is closed.\n",
        "\n",
        "If the file is not found, a FileNotFoundError exception is caught and handled appropriately."
      ],
      "metadata": {
        "id": "ha7aKmQJuiaF"
      }
    },
    {
      "cell_type": "markdown",
      "source": [
        "c. raise:\n",
        "\n",
        "The raise statement is used to raise exceptions explicitly in Python. You can raise built-in exceptions or create custom exceptions by subclassing existing exception classes."
      ],
      "metadata": {
        "id": "F60jkoOVur0u"
      }
    },
    {
      "cell_type": "code",
      "source": [
        "def sqrt(x):\n",
        "    if x < 0:\n",
        "        raise ValueError(\"Cannot compute square root of a negative number\")\n",
        "    else:\n",
        "        return x ** 0.5\n",
        "\n",
        "# Test the function\n",
        "try:\n",
        "    print(sqrt(9))   # Output: 3.0\n",
        "    print(sqrt(-4))  # Output: ValueError: Cannot compute square root of a negative number\n",
        "except ValueError as e:\n",
        "    print(e)\n"
      ],
      "metadata": {
        "colab": {
          "base_uri": "https://localhost:8080/"
        },
        "id": "Q8BZASOcu1RC",
        "outputId": "e1de9232-817d-48be-831a-741b59163f25"
      },
      "execution_count": 3,
      "outputs": [
        {
          "output_type": "stream",
          "name": "stdout",
          "text": [
            "3.0\n",
            "Cannot compute square root of a negative number\n"
          ]
        }
      ]
    },
    {
      "cell_type": "markdown",
      "source": [
        "The sqrt() function computes the square root of a number.\n",
        "\n",
        "If the input is negative, a ValueError exception is raised with a custom error message.\n",
        "\n",
        "The try-except block catches the ValueError exception and prints the error message."
      ],
      "metadata": {
        "id": "iU2pZAPRu4zs"
      }
    },
    {
      "cell_type": "markdown",
      "source": [
        "Q.5 :- What are custom Exceptions in python ? Why do we need custom Exceptions? Explain with an example ."
      ],
      "metadata": {
        "id": "PYEyZMSbvEtn"
      }
    },
    {
      "cell_type": "markdown",
      "source": [
        "Answer :-  Custom exceptions in Python are user-defined exception classes that inherit from the built-in Exception class or its subclasses. These exceptions allow developers to create specific error types tailored to their applications' needs.\n",
        "\n",
        "Why do we need custom Exceptions?\n",
        "\n",
        "\n",
        "Clarity and Readability: Custom exceptions provide meaningful names that convey the specific error condition that occurred in the program. This enhances code readability and makes it easier to understand and maintain.\n",
        "\n",
        "Granular Error Handling: By defining custom exceptions, you can handle different error scenarios separately, allowing for more granular error handling strategies.\n",
        "\n",
        "Modularity and Reusability: Custom exceptions can be defined once and reused across multiple parts of the codebase, promoting modularity and reducing code duplication.\n",
        "\n",
        "Example:\n",
        "\n",
        "Let's consider an example where we define a custom exception called InsufficientFundsError for a banking application."
      ],
      "metadata": {
        "id": "o60vMd2Sv_6l"
      }
    },
    {
      "cell_type": "code",
      "source": [
        "class InsufficientFundsError(Exception):\n",
        "    \"\"\"Exception raised when an account has insufficient funds.\"\"\"\n",
        "    def __init__(self, balance, amount):\n",
        "        super().__init__(f\"Insufficient funds. Current balance: {balance}, Required: {amount}\")\n",
        "\n",
        "class BankAccount:\n",
        "    def __init__(self, balance=0):\n",
        "        self.balance = balance\n",
        "\n",
        "    def withdraw(self, amount):\n",
        "        if amount > self.balance:\n",
        "            raise InsufficientFundsError(self.balance, amount)\n",
        "        else:\n",
        "            self.balance -= amount\n",
        "            return self.balance\n",
        "\n",
        "# Test the BankAccount class\n",
        "account = BankAccount(100)\n",
        "try:\n",
        "    print(\"Withdrawal:\", account.withdraw(150))\n",
        "except InsufficientFundsError as e:\n",
        "    print(\"Error:\", e)\n"
      ],
      "metadata": {
        "colab": {
          "base_uri": "https://localhost:8080/"
        },
        "id": "-1GCObu8w6uF",
        "outputId": "93cb2419-ef81-4198-b688-ec03f2dce630"
      },
      "execution_count": 4,
      "outputs": [
        {
          "output_type": "stream",
          "name": "stdout",
          "text": [
            "Error: Insufficient funds. Current balance: 100, Required: 150\n"
          ]
        }
      ]
    },
    {
      "cell_type": "markdown",
      "source": [
        "We define a custom exception class InsufficientFundsError, which inherits from the built-in Exception class. It provides a custom error message indicating the current balance and the required amount.\n",
        "\n",
        "The BankAccount class represents a simple bank account with a balance.\n",
        "\n",
        "The withdraw() method of the BankAccount class checks if the withdrawal amount exceeds the account balance. If so, it raises an InsufficientFundsError.\n",
        "\n",
        "In the try-except block, we attempt to withdraw an amount greater than the account balance. When the InsufficientFundsError exception is raised, we catch it and print the error message.\n",
        "\n",
        "Custom exceptions like InsufficientFundsError allow developers to handle specific error conditions gracefully, leading to more robust and maintainable code"
      ],
      "metadata": {
        "id": "CXUTuHspxBK7"
      }
    },
    {
      "cell_type": "markdown",
      "source": [
        "Q.6 : - Create a custom Exception class. use the class to handle an exception."
      ],
      "metadata": {
        "id": "yEOhsz1TxVs1"
      }
    },
    {
      "cell_type": "markdown",
      "source": [
        "Answer :-  "
      ],
      "metadata": {
        "id": "J7eY2m2Rx_r7"
      }
    },
    {
      "cell_type": "code",
      "source": [
        "class InvalidEmailError(Exception):\n",
        "    \"\"\"Exception raised when an email address is invalid.\"\"\"\n",
        "    def __init__(self, email):\n",
        "        super().__init__(f\"Invalid email address: {email}\")\n",
        "\n",
        "def send_email(to_email, subject, body):\n",
        "    # Dummy function to simulate sending an email\n",
        "    if \"@\" not in to_email:\n",
        "        raise InvalidEmailError(to_email)\n",
        "    else:\n",
        "        print(f\"Email sent to: {to_email}\\nSubject: {subject}\\nBody: {body}\")\n",
        "\n",
        "# Test the send_email function\n",
        "try:\n",
        "    send_email(\"john.doe@example\", \"Test Subject\", \"Test Body\")\n",
        "except InvalidEmailError as e:\n",
        "    print(\"Error:\", e)\n"
      ],
      "metadata": {
        "colab": {
          "base_uri": "https://localhost:8080/"
        },
        "id": "JGICQeHMyNfT",
        "outputId": "a98bfa48-b39c-46e6-d553-15fd59dcfc39"
      },
      "execution_count": 5,
      "outputs": [
        {
          "output_type": "stream",
          "name": "stdout",
          "text": [
            "Email sent to: john.doe@example\n",
            "Subject: Test Subject\n",
            "Body: Test Body\n"
          ]
        }
      ]
    },
    {
      "cell_type": "markdown",
      "source": [
        "Explanation:\n",
        "\n",
        "We define a custom exception class InvalidEmailError, which inherits from the built-in Exception class. It provides a custom error message indicating the invalid email address.\n",
        "\n",
        "The send_email() function simulates sending an email. If the email address passed to it does not contain the \"@\" symbol, it raises an InvalidEmailError exception.\n",
        "\n",
        "In the try-except block, we call the send_email() function with an invalid email address. When the InvalidEmailError exception is raised, we catch it and print the error message.\n",
        "\n",
        "\n",
        "This example demonstrates how to define a custom exception class and use it to handle specific error conditions in your Python code."
      ],
      "metadata": {
        "id": "a_4fqswFyP7i"
      }
    },
    {
      "cell_type": "code",
      "source": [],
      "metadata": {
        "id": "zfTiEgvUydAC"
      },
      "execution_count": null,
      "outputs": []
    },
    {
      "cell_type": "markdown",
      "source": [],
      "metadata": {
        "id": "b7Ipn_UKv5dj"
      }
    }
  ]
}