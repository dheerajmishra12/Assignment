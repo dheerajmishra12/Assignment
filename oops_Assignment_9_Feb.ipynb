{
  "nbformat": 4,
  "nbformat_minor": 0,
  "metadata": {
    "colab": {
      "provenance": []
    },
    "kernelspec": {
      "name": "python3",
      "display_name": "Python 3"
    },
    "language_info": {
      "name": "python"
    }
  },
  "cells": [
    {
      "cell_type": "markdown",
      "source": [
        "Q.1 :-  Create a vehicle class with an init method having instance variables as name_of_vehicle, max_speed\n",
        "and average_of_vehicle."
      ],
      "metadata": {
        "id": "ywoOP_U6i6Fj"
      }
    },
    {
      "cell_type": "code",
      "source": [
        "\n",
        "class vehicle :\n",
        "  def __init__(self , name_of_vehicle , max_speed , average_of_vehicle) :\n",
        "    self.name_of_vehicle = name_of_vehicle\n",
        "    self.max_speed = max_speed\n",
        "    self.average_of_vehicle = average_of_vehicle\n",
        ""
      ],
      "metadata": {
        "id": "38rgGziCjImM"
      },
      "execution_count": 1,
      "outputs": []
    },
    {
      "cell_type": "code",
      "execution_count": 2,
      "metadata": {
        "id": "_gV47T7LiysD"
      },
      "outputs": [],
      "source": [
        "car = vehicle(\"Toyata\" , 180 , 20)"
      ]
    },
    {
      "cell_type": "code",
      "source": [
        "car.name_of_vehicle"
      ],
      "metadata": {
        "colab": {
          "base_uri": "https://localhost:8080/",
          "height": 35
        },
        "id": "rsSbG3SYltE7",
        "outputId": "e5a4c818-b68e-4a01-fd25-02eb4632261b"
      },
      "execution_count": 4,
      "outputs": [
        {
          "output_type": "execute_result",
          "data": {
            "text/plain": [
              "'Toyata'"
            ],
            "application/vnd.google.colaboratory.intrinsic+json": {
              "type": "string"
            }
          },
          "metadata": {},
          "execution_count": 4
        }
      ]
    },
    {
      "cell_type": "code",
      "source": [
        "car.max_speed"
      ],
      "metadata": {
        "colab": {
          "base_uri": "https://localhost:8080/"
        },
        "id": "zu0seGSjlzev",
        "outputId": "57c162e4-4491-4daf-8102-b083787c2b26"
      },
      "execution_count": 5,
      "outputs": [
        {
          "output_type": "execute_result",
          "data": {
            "text/plain": [
              "180"
            ]
          },
          "metadata": {},
          "execution_count": 5
        }
      ]
    },
    {
      "cell_type": "code",
      "source": [
        "car.average_of_vehicle"
      ],
      "metadata": {
        "colab": {
          "base_uri": "https://localhost:8080/"
        },
        "id": "lX4TIZk6mNlb",
        "outputId": "d9072fd8-be77-4b7b-dd24-49386bd92703"
      },
      "execution_count": 6,
      "outputs": [
        {
          "output_type": "execute_result",
          "data": {
            "text/plain": [
              "20"
            ]
          },
          "metadata": {},
          "execution_count": 6
        }
      ]
    },
    {
      "cell_type": "markdown",
      "source": [
        "Q.2 :-   Create a child class car from the vehicle class created in Que 1, which will inherit the vehicle class.\n",
        "Create a method named seating_capacity which takes capacity as an argument and returns the name of\n",
        "the vehicle and its seating capacity"
      ],
      "metadata": {
        "id": "UYIeKEoUmbCk"
      }
    },
    {
      "cell_type": "code",
      "source": [
        "class Car(vehicle):\n",
        "    def seating_capacity(self, capacity):\n",
        "        return f\"The {self.name_of_vehicle} has a seating capacity of {capacity} people.\"\n",
        "\n",
        "\n",
        "# Example usage:\n",
        "car1 = Car(\"Toyota \", 180, 30)\n",
        "print(car1.seating_capacity(5))  # Output: The Toyota Camry has a seating capacity of 5 people.\n",
        "\n"
      ],
      "metadata": {
        "colab": {
          "base_uri": "https://localhost:8080/"
        },
        "id": "H4Kux0rqmmP0",
        "outputId": "1e0b3240-c113-4970-9e70-05efac8bb8c7"
      },
      "execution_count": 12,
      "outputs": [
        {
          "output_type": "stream",
          "name": "stdout",
          "text": [
            "The Toyota  has a seating capacity of 5 people.\n"
          ]
        }
      ]
    },
    {
      "cell_type": "markdown",
      "source": [
        "Q.3 :-  What is multiple inheritance? Write a python code to demonstrate multiple inheritance."
      ],
      "metadata": {
        "id": "bfaRgS6npqtk"
      }
    },
    {
      "cell_type": "markdown",
      "source": [
        "Answer :- Multiple inheritance is a feature in object-oriented programming languages like Python where a class can inherit attributes and methods from more than one parent class. In Python, when a class inherits from multiple parent classes, it can access attributes and methods defined in all of its parent classes."
      ],
      "metadata": {
        "id": "6TCi8L8_qDLx"
      }
    },
    {
      "cell_type": "code",
      "source": [
        "class parent1 :\n",
        "  def method1(self):\n",
        "    print(\"method1 from parent1\")"
      ],
      "metadata": {
        "id": "zr8nZHiMqlEs"
      },
      "execution_count": 13,
      "outputs": []
    },
    {
      "cell_type": "code",
      "source": [
        "class parent2 :\n",
        "  def method2(self):\n",
        "    print(\"method2 from parent2\")"
      ],
      "metadata": {
        "id": "TALiWOAomYmf"
      },
      "execution_count": 14,
      "outputs": []
    },
    {
      "cell_type": "code",
      "source": [
        "class child(parent1 , parent2) :\n",
        "  def method3(self) :\n",
        "    print(\"child method\")"
      ],
      "metadata": {
        "id": "Ipwy0nQwrmi_"
      },
      "execution_count": 21,
      "outputs": []
    },
    {
      "cell_type": "code",
      "source": [
        "obj_class = child()"
      ],
      "metadata": {
        "id": "YCyJ0BvUsGQR"
      },
      "execution_count": 22,
      "outputs": []
    },
    {
      "cell_type": "code",
      "source": [
        "obj_class.method1()"
      ],
      "metadata": {
        "colab": {
          "base_uri": "https://localhost:8080/"
        },
        "id": "XH6Pz4VvsaE3",
        "outputId": "6abd1a6a-27a5-45ea-d3c3-3397cead6519"
      },
      "execution_count": 23,
      "outputs": [
        {
          "output_type": "stream",
          "name": "stdout",
          "text": [
            "method1 from parent1\n"
          ]
        }
      ]
    },
    {
      "cell_type": "code",
      "source": [
        "obj_class.method2()"
      ],
      "metadata": {
        "colab": {
          "base_uri": "https://localhost:8080/"
        },
        "id": "gtRGIMsjsfcw",
        "outputId": "44ac713a-d370-49b3-98c3-86521b8ff13d"
      },
      "execution_count": 24,
      "outputs": [
        {
          "output_type": "stream",
          "name": "stdout",
          "text": [
            "method2 from parent2\n"
          ]
        }
      ]
    },
    {
      "cell_type": "markdown",
      "source": [
        "Q.4 :-  What are getter and setter in python? Create a class and create a getter and a setter method in this\n",
        "class."
      ],
      "metadata": {
        "id": "-anXKDSIs9tk"
      }
    },
    {
      "cell_type": "markdown",
      "source": [
        "Answer :- In Python, getters and setters are methods used to access and modify the attributes of a class respectively. They allow controlled access to class attributes and enable validation and encapsulation."
      ],
      "metadata": {
        "id": "ynRiYjcQtRvk"
      }
    },
    {
      "cell_type": "code",
      "source": [
        "class Person:\n",
        "    def __init__(self, name, age):\n",
        "        self._name = name\n",
        "        self._age = age\n",
        "\n",
        "    # Getter method for name attribute\n",
        "    def get_name(self):\n",
        "        return self._name\n",
        "\n",
        "    # Setter method for name attribute\n",
        "    def set_name(self, name):\n",
        "        self._name = name\n",
        "\n",
        "    # Getter method for age attribute\n",
        "    def get_age(self):\n",
        "        return self._age\n",
        "\n",
        "    # Setter method for age attribute\n",
        "    def set_age(self, age):\n",
        "        if age >= 0:\n",
        "            self._age = age\n",
        "        else:\n",
        "            print(\"Age cannot be negative.\")\n",
        "\n",
        "\n",
        "# Creating an instance of the Person class\n",
        "person1 = Person(\"John\", 30)\n",
        "\n",
        "# Accessing attributes using getter methods\n",
        "print(\"Name:\", person1.get_name())  # Output: Name: John\n",
        "print(\"Age:\", person1.get_age())    # Output: Age: 30\n",
        "\n",
        "# Modifying attributes using setter methods\n",
        "person1.set_name(\"Alice\")\n",
        "person1.set_age(25)\n",
        "\n",
        "print(\"Modified Name:\", person1.get_name())  # Output: Modified Name: Alice\n",
        "print(\"Modified Age:\", person1.get_age())    # Output: Modified Age: 25\n"
      ],
      "metadata": {
        "colab": {
          "base_uri": "https://localhost:8080/"
        },
        "id": "8l37dfCQujHB",
        "outputId": "b6d48d82-ba83-4d29-8da4-2bbd8f36549b"
      },
      "execution_count": 25,
      "outputs": [
        {
          "output_type": "stream",
          "name": "stdout",
          "text": [
            "Name: John\n",
            "Age: 30\n",
            "Modified Name: Alice\n",
            "Modified Age: 25\n"
          ]
        }
      ]
    },
    {
      "cell_type": "markdown",
      "source": [
        "Q.5 :- What is method overriding in python? Write a python code to demonstrate method overriding."
      ],
      "metadata": {
        "id": "qcpcpZhxuto3"
      }
    },
    {
      "cell_type": "markdown",
      "source": [
        "Answer :- Method overriding in Python occurs when a subclass provides a specific implementation of a method that is already provided by one of its parent classes. This allows a subclass to provide a specialized implementation of a method that is already defined in its superclass."
      ],
      "metadata": {
        "id": "kLN1DDGxu5F-"
      }
    },
    {
      "cell_type": "code",
      "source": [
        "class Animal:\n",
        "    def sound(self):\n",
        "        print(\"Animal makes a sound\")\n",
        "\n",
        "\n",
        "class Dog(Animal):\n",
        "    def sound(self):\n",
        "        print(\"Dog barks\")\n",
        "\n",
        "\n",
        "class Cat(Animal):\n",
        "    def sound(self):\n",
        "        print(\"Cat meows\")\n",
        "\n",
        "\n",
        "# Creating instances of Dog and Cat classes\n",
        "dog = Dog()\n",
        "cat = Cat()\n",
        "\n",
        "# Calling the overridden methods\n",
        "dog.sound()  # Output: Dog barks\n",
        "cat.sound()  # Output: Cat meows\n"
      ],
      "metadata": {
        "colab": {
          "base_uri": "https://localhost:8080/"
        },
        "id": "J2PDkz6QvWrY",
        "outputId": "5ddf1e8f-7059-4136-ea75-af640075ae74"
      },
      "execution_count": 26,
      "outputs": [
        {
          "output_type": "stream",
          "name": "stdout",
          "text": [
            "Dog barks\n",
            "Cat meows\n"
          ]
        }
      ]
    },
    {
      "cell_type": "code",
      "source": [],
      "metadata": {
        "id": "dfv2yX_xslwG"
      },
      "execution_count": null,
      "outputs": []
    }
  ]
}