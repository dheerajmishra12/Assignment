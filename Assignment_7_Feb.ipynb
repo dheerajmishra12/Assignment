{
  "nbformat": 4,
  "nbformat_minor": 0,
  "metadata": {
    "colab": {
      "provenance": []
    },
    "kernelspec": {
      "name": "python3",
      "display_name": "Python 3"
    },
    "language_info": {
      "name": "python"
    }
  },
  "cells": [
    {
      "cell_type": "markdown",
      "source": [
        "Q.1 :-  You are writing code for a company. The requirement of the company is that you create a python\n",
        "function that will check whether the password entered by the user is correct or not. The function should\n",
        "take the password as input and return the string “Valid Password” if the entered password follows the\n",
        "below-given password guidelines else it should return “Invalid Password”.\n",
        "\n",
        "\n",
        "Note: 1. The Password should contain at least two uppercase letters and at least two lowercase letters.\n",
        "\n",
        "2. The Password should contain at least a number and three special characters.\n",
        "\n",
        "3. The length of the password should be 10 characters long"
      ],
      "metadata": {
        "id": "ywOiteB1ZZGQ"
      }
    },
    {
      "cell_type": "code",
      "source": [
        "import re\n",
        "\n",
        "def check_password(password):\n",
        "    # Check if password length is 10 characters\n",
        "    if len(password) <= 10:\n",
        "        return \"Invalid Password\"\n",
        "\n",
        "    # Count uppercase, lowercase, digits, and special characters\n",
        "    upper_count = sum(1 for char in password if char.isupper())\n",
        "    lower_count = sum(1 for char in password if char.islower())\n",
        "    digit_count = sum(1 for char in password if char.isdigit())\n",
        "    special_count = len(re.findall(r'[!@#$%^&*()-_+=]', password))\n",
        "\n",
        "    # Check if conditions are met\n",
        "    if upper_count >= 2 and lower_count >= 2 and digit_count >= 1 and special_count >= 3:\n",
        "        return \"Valid Password\"\n",
        "    else:\n",
        "        return \"Invalid Password\"\n",
        "\n",
        "# Test the function\n",
        "password = input(\"Enter your password: \")\n",
        "print(check_password(password))\n"
      ],
      "metadata": {
        "colab": {
          "base_uri": "https://localhost:8080/"
        },
        "id": "cutVn_FTYwru",
        "outputId": "664791af-7981-4508-c6db-3d2351b8e2b6"
      },
      "execution_count": null,
      "outputs": [
        {
          "output_type": "stream",
          "name": "stdout",
          "text": [
            "Enter your password: ADaf34@#$tg\n",
            "Valid Password\n"
          ]
        }
      ]
    },
    {
      "cell_type": "markdown",
      "source": [
        "Q2. Solve the below-given questions using at least one of the following:\n",
        "\n",
        "1. Lambda function\n",
        "2. Filter function\n",
        "3. Map function\n",
        "4. List Comprehension\n",
        "\n",
        ". Check if the string starts with a particular letter\n",
        "\n",
        ". Check if the string is numeric\n",
        "\n",
        ". Sort a list of tuples having fruit names and their quantity. [(\"mango\",99),(\"orange\",80), (\"grapes\", 1000)]\n",
        "\n",
        ". Find the squares of numbers from 1 to 10\n",
        "\n",
        ". Find the cube root of numbers from 1 to 10\n",
        "\n",
        ". Check if a given number is even\n",
        "\n",
        ".Filter odd numbers from the given list.\n",
        "\n",
        " [1,2,3,4,5,6,7,8,9,10]\n",
        "\n",
        ". Sort a list of integers into positive and negative integers lists.\n",
        "\n",
        " [1,2,3,4,5,6,-1,-2,-3,-4,-5,0]"
      ],
      "metadata": {
        "id": "S-fJ8lHYA3ou"
      }
    },
    {
      "cell_type": "code",
      "source": [
        "# List of strings\n",
        "strings = [\"apple\", \"banana\", \"cherry\", \"orange\", \"kiwi\"]\n",
        "\n",
        "# Letter to check\n",
        "letter_to_check = 'a'\n",
        "\n",
        "# Using list comprehension to check if each string starts with the specified letter\n",
        "starts_with_letter = [string for string in strings if string.startswith(letter_to_check)]\n",
        "\n",
        "# Output the result\n",
        "print(starts_with_letter)\n"
      ],
      "metadata": {
        "colab": {
          "base_uri": "https://localhost:8080/"
        },
        "id": "g-t0h3bmCMhn",
        "outputId": "ac11827a-b237-43e5-cf5e-1f4d12a320b5"
      },
      "execution_count": 1,
      "outputs": [
        {
          "output_type": "stream",
          "name": "stdout",
          "text": [
            "['apple']\n"
          ]
        }
      ]
    },
    {
      "cell_type": "code",
      "source": [
        "# List of strings\n",
        "strings = [\"123\", \"abc\", \"456\", \"789\", \"xyz\", \"10\"]\n",
        "\n",
        "# Using filter() function with a lambda function to check if each string is numeric\n",
        "numeric_strings = list(filter(lambda x: x.isnumeric(), strings))\n",
        "\n",
        "# Output the result\n",
        "print(numeric_strings)\n"
      ],
      "metadata": {
        "colab": {
          "base_uri": "https://localhost:8080/"
        },
        "id": "UQXIWKxVDLF-",
        "outputId": "b3d4fc85-e8f5-4c04-95d3-55374771775c"
      },
      "execution_count": 2,
      "outputs": [
        {
          "output_type": "stream",
          "name": "stdout",
          "text": [
            "['123', '456', '789', '10']\n"
          ]
        }
      ]
    },
    {
      "cell_type": "code",
      "source": [
        "# List of tuples\n",
        "fruits = [(\"mango\", 99), (\"orange\", 80), (\"grapes\", 1000)]\n",
        "\n",
        "# Sorting the list of tuples based on the second element (quantity)\n",
        "sorted_fruits = sorted(fruits, key=lambda x: x[1])\n",
        "\n",
        "# Output the result\n",
        "print(sorted_fruits)\n"
      ],
      "metadata": {
        "colab": {
          "base_uri": "https://localhost:8080/"
        },
        "id": "joZc9dRJEA-1",
        "outputId": "c375a12f-f6c8-46b4-818c-a75c00afaf12"
      },
      "execution_count": 3,
      "outputs": [
        {
          "output_type": "stream",
          "name": "stdout",
          "text": [
            "[('orange', 80), ('mango', 99), ('grapes', 1000)]\n"
          ]
        }
      ]
    },
    {
      "cell_type": "code",
      "source": [
        "# Using list comprehension to find the squares of numbers from 1 to 10\n",
        "squares = [x ** 2 for x in range(1, 11)]\n",
        "\n",
        "# Output the result\n",
        "print(squares)\n"
      ],
      "metadata": {
        "colab": {
          "base_uri": "https://localhost:8080/"
        },
        "id": "K-TD28WiEgWN",
        "outputId": "f44f6f81-2ceb-484e-f992-936320711e6c"
      },
      "execution_count": 4,
      "outputs": [
        {
          "output_type": "stream",
          "name": "stdout",
          "text": [
            "[1, 4, 9, 16, 25, 36, 49, 64, 81, 100]\n"
          ]
        }
      ]
    },
    {
      "cell_type": "code",
      "source": [
        "# Using map() function with a lambda function to find the cube roots of numbers from 1 to 10\n",
        "cube_roots = list(map(lambda x: x ** (1/3), range(1, 11)))\n",
        "\n",
        "# Output the result\n",
        "print(cube_roots)\n"
      ],
      "metadata": {
        "colab": {
          "base_uri": "https://localhost:8080/"
        },
        "id": "Hf-MkS5ZE6Oy",
        "outputId": "09aaaf09-3595-43c8-da65-d4eb9358d31e"
      },
      "execution_count": 5,
      "outputs": [
        {
          "output_type": "stream",
          "name": "stdout",
          "text": [
            "[1.0, 1.2599210498948732, 1.4422495703074083, 1.5874010519681994, 1.7099759466766968, 1.8171205928321397, 1.912931182772389, 2.0, 2.080083823051904, 2.154434690031884]\n"
          ]
        }
      ]
    },
    {
      "cell_type": "code",
      "source": [
        "# Function to check if a number is even\n",
        "is_even = lambda x: x % 2 == 0\n",
        "\n",
        "# Test numbers\n",
        "numbers = [1, 2, 3, 4, 5, 6, 7, 8, 9, 10]\n",
        "\n",
        "# Filter even numbers using the lambda function and filter function\n",
        "even_numbers = list(filter(is_even, numbers))\n",
        "\n",
        "# Output the result\n",
        "print(even_numbers)\n"
      ],
      "metadata": {
        "colab": {
          "base_uri": "https://localhost:8080/"
        },
        "id": "T12GGz0UFXCd",
        "outputId": "22ce182e-88ff-407b-c2a5-75fcbf3cf9ab"
      },
      "execution_count": 6,
      "outputs": [
        {
          "output_type": "stream",
          "name": "stdout",
          "text": [
            "[2, 4, 6, 8, 10]\n"
          ]
        }
      ]
    },
    {
      "cell_type": "code",
      "source": [
        "#Filter odd numbers from the given list.\n",
        "\n",
        "[1,2,3,4,5,6,7,8,9,10]"
      ],
      "metadata": {
        "id": "n0HfFFvwFZ5l"
      },
      "execution_count": null,
      "outputs": []
    },
    {
      "cell_type": "code",
      "source": [
        "# Given list of numbers\n",
        "numbers = [1, 2, 3, 4, 5, 6, 7, 8, 9, 10]\n",
        "\n",
        "# Filter odd numbers using the lambda function and filter function\n",
        "odd_numbers = list(filter(lambda x: x % 2 != 0, numbers))\n",
        "\n",
        "# Output the result\n",
        "print(odd_numbers)\n"
      ],
      "metadata": {
        "colab": {
          "base_uri": "https://localhost:8080/"
        },
        "id": "s5hU5kQlF7nL",
        "outputId": "ecae25ed-5278-453f-e08c-d4f51bf12eb1"
      },
      "execution_count": 7,
      "outputs": [
        {
          "output_type": "stream",
          "name": "stdout",
          "text": [
            "[1, 3, 5, 7, 9]\n"
          ]
        }
      ]
    },
    {
      "cell_type": "code",
      "source": [
        "# Given list of integers\n",
        "numbers = [1, 2, 3, 4, 5, 6, -1, -2, -3, -4, -5, 0]\n",
        "\n",
        "# Sorting positive and negative integers\n",
        "positive_numbers = [num for num in numbers if num > 0]\n",
        "negative_numbers = [num for num in numbers if num < 0]\n",
        "\n",
        "# Output the results\n",
        "print(\"Positive integers:\", positive_numbers)\n",
        "print(\"Negative integers:\", negative_numbers)\n"
      ],
      "metadata": {
        "colab": {
          "base_uri": "https://localhost:8080/"
        },
        "id": "mbhvZcDtGRIk",
        "outputId": "fe46c270-4809-47a0-c6fd-3a56eadd51d7"
      },
      "execution_count": 8,
      "outputs": [
        {
          "output_type": "stream",
          "name": "stdout",
          "text": [
            "Positive integers: [1, 2, 3, 4, 5, 6]\n",
            "Negative integers: [-1, -2, -3, -4, -5]\n"
          ]
        }
      ]
    }
  ]
}