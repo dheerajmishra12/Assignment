{
  "nbformat": 4,
  "nbformat_minor": 0,
  "metadata": {
    "colab": {
      "provenance": []
    },
    "kernelspec": {
      "name": "python3",
      "display_name": "Python 3"
    },
    "language_info": {
      "name": "python"
    }
  },
  "cells": [
    {
      "cell_type": "markdown",
      "source": [
        "Q.1 :- Who developed python programming Language."
      ],
      "metadata": {
        "id": "8dJJmP3qTOtX"
      }
    },
    {
      "cell_type": "markdown",
      "source": [
        "Answer :- Guido Van Rossum developed python programming language."
      ],
      "metadata": {
        "id": "Let_KuatT_VM"
      }
    },
    {
      "cell_type": "markdown",
      "source": [
        "Q.2 :- Which type of programming does python support ?"
      ],
      "metadata": {
        "id": "dce1tLkxUhAK"
      }
    },
    {
      "cell_type": "markdown",
      "source": [
        "Answer :- Python is a versatile programming language that supports multiple programming paradigms. The main programming paradigms supported by Python include:\n",
        "\n",
        "Imperative/Procedural Programming: Python supports procedural programming, where you can write code in a step-by-step manner, specifying the sequence of actions to be performed.\n",
        "\n",
        "Object-Oriented Programming (OOP): Python is an object-oriented programming language, allowing you to define classes and create objects with encapsulated data and behavior. Inheritance, polymorphism, and encapsulation are key features of Python's OOP support.\n",
        "\n",
        "Functional Programming: Python supports functional programming concepts, including the use of first-class functions, higher-order functions, and the ability to pass functions as arguments. Features like lambda functions and tools like the map, filter, and reduce functions contribute to functional programming support.\n",
        "\n",
        "Procedural Programming: Python allows you to write code in a procedural style, organizing functionality into procedures or functions that can be called sequentially.\n",
        "\n",
        "Scripting: Python is often used as a scripting language, allowing for the development of scripts to automate tasks or execute commands. It is widely used for system administration and automation.\n",
        "\n",
        "Dynamic Typing: Python is dynamically typed, meaning you don't need to declare the data type of a variable explicitly. The interpreter determines the type at runtime, providing flexibility but also requiring careful consideration of variable types.\n",
        "\n",
        "Python's versatility and ease of use make it suitable for a wide range of applications, from web development and scientific computing to artificial intelligence and data analysis."
      ],
      "metadata": {
        "id": "OfgNTMRDU9Mn"
      }
    },
    {
      "cell_type": "markdown",
      "source": [],
      "metadata": {
        "id": "Qx6jwPtxV_LN"
      }
    },
    {
      "cell_type": "markdown",
      "source": [
        "Q.3 :- Is python case sensitive when dealing with identifiers ?"
      ],
      "metadata": {
        "id": "rykH8ZJIyfHm"
      }
    },
    {
      "cell_type": "markdown",
      "source": [
        "Answer :- Yes, Python is case-sensitive when dealing with identifiers. This means that identifiers such as variable names, function names, class names, and other names defined in Python code must match exactly in terms of case when they are referenced.\n",
        "\n",
        "For example, in Python, my_variable, My_Variable, and MY_VARIABLE would be considered as three distinct identifiers."
      ],
      "metadata": {
        "id": "1RPc9nSozRkz"
      }
    },
    {
      "cell_type": "markdown",
      "source": [
        "Q.4 :- What is the correct extension of the python file ?"
      ],
      "metadata": {
        "id": "Z6XO0-bnzoou"
      }
    },
    {
      "cell_type": "markdown",
      "source": [
        "Answer :- .py is the correct extension of the python file ."
      ],
      "metadata": {
        "id": "EreBenXD0AWl"
      }
    },
    {
      "cell_type": "markdown",
      "source": [
        "Q.5 :- Is python code compiled or interpreted ?"
      ],
      "metadata": {
        "id": "DsfljmLY0b8e"
      }
    },
    {
      "cell_type": "markdown",
      "source": [
        "Answer :- Interpreted"
      ],
      "metadata": {
        "id": "afB64qJW07h-"
      }
    },
    {
      "cell_type": "markdown",
      "source": [
        "Q.6 :- Name a few blocks of code used to define in python language ?"
      ],
      "metadata": {
        "id": "BFylRSQU1GCJ"
      }
    },
    {
      "cell_type": "markdown",
      "source": [
        "Answer :- In Python, code blocks are defined using indentation. Indentation is a fundamental aspect of Python syntax and is used to indicate the beginning and end of blocks of code. Here are a few common blocks of code used in Python\n",
        "\n",
        "Function Definitions:"
      ],
      "metadata": {
        "id": "iMp1G7ln2DpO"
      }
    },
    {
      "cell_type": "code",
      "source": [
        "def my_function():\n",
        "    # Indented block\n",
        "    statement1\n",
        "    statement2\n"
      ],
      "metadata": {
        "id": "vUYzXtS12MUi"
      },
      "execution_count": 1,
      "outputs": []
    },
    {
      "cell_type": "markdown",
      "source": [
        "Conditional Statements (if, elif, else):"
      ],
      "metadata": {
        "id": "WcV7Djs22YH6"
      }
    },
    {
      "cell_type": "code",
      "source": [
        "if condition:\n",
        "    # Indented block for if statement\n",
        "    statement1\n",
        "    statement2\n",
        "elif condition:\n",
        "    # Indented block for elif statement\n",
        "    statement3\n",
        "    statement4\n",
        "else:\n",
        "    # Indented block for else statement\n",
        "    statement5\n",
        "    statement6\n"
      ],
      "metadata": {
        "id": "YUuqekyj2den"
      },
      "execution_count": null,
      "outputs": []
    },
    {
      "cell_type": "markdown",
      "source": [
        "Loop Statements (for, while):"
      ],
      "metadata": {
        "id": "N4_yHxMG2vjj"
      }
    },
    {
      "cell_type": "code",
      "source": [
        "for item in iterable:\n",
        "    # Indented block for for loop\n",
        "    statement1\n",
        "    statement2\n",
        "\n",
        "while condition:\n",
        "    # Indented block for while loop\n",
        "    statement3\n",
        "    statement4\n"
      ],
      "metadata": {
        "id": "W-pQp9v22z0J"
      },
      "execution_count": null,
      "outputs": []
    },
    {
      "cell_type": "markdown",
      "source": [
        "Class Definitions:"
      ],
      "metadata": {
        "id": "v1sNPozc23jd"
      }
    },
    {
      "cell_type": "code",
      "source": [
        "class MyClass:\n",
        "    # Indented block for class definition\n",
        "    def __init__(self, x, y):\n",
        "        # Indented block for constructor\n",
        "        self.x = x\n",
        "        self.y = y\n",
        "\n",
        "    def my_method(self):\n",
        "        # Indented block for method definition\n",
        "        statement1\n",
        "        statement2\n"
      ],
      "metadata": {
        "id": "GMevYt6k27qZ"
      },
      "execution_count": null,
      "outputs": []
    },
    {
      "cell_type": "markdown",
      "source": [
        "Q.7 :- State a character used to give single-line comments in python ?"
      ],
      "metadata": {
        "id": "S0AH3HfI3Fug"
      }
    },
    {
      "cell_type": "markdown",
      "source": [
        "Answer :- # symbol is used to give single-line comments in python."
      ],
      "metadata": {
        "id": "J4h2iPWS3dRT"
      }
    },
    {
      "cell_type": "markdown",
      "source": [
        "Q.8 :- Mention functions which can help us to find the version of python that we are currently working on ?"
      ],
      "metadata": {
        "id": "pmsqsqze32uM"
      }
    },
    {
      "cell_type": "markdown",
      "source": [
        "Answer :- sys.version\n",
        "\n",
        "python_version"
      ],
      "metadata": {
        "id": "dxJ5a7UE4flu"
      }
    },
    {
      "cell_type": "markdown",
      "source": [
        "Q.9 :- Python supports the creation of anonymous functions at runtime , using a construct called ."
      ],
      "metadata": {
        "id": "_UoUUPFj5kzv"
      }
    },
    {
      "cell_type": "markdown",
      "source": [
        "Answer :- Python supports the creation of anonymous functions at runtime using a construct called \"lambda\" functions."
      ],
      "metadata": {
        "id": "qfv1u1vl6M_E"
      }
    },
    {
      "cell_type": "code",
      "source": [
        "lambda arguments: expression\n"
      ],
      "metadata": {
        "id": "nE8lilfC6sB7"
      },
      "execution_count": null,
      "outputs": []
    },
    {
      "cell_type": "markdown",
      "source": [
        "Q.10 :- What does pip stand for python ?"
      ],
      "metadata": {
        "id": "YGkJWhWM6w9G"
      }
    },
    {
      "cell_type": "markdown",
      "source": [
        "Answer :- PIP stands for \"Pip Installs Packages\" or \"Pip Installs Python\""
      ],
      "metadata": {
        "id": "6mLWLTOp67Uy"
      }
    },
    {
      "cell_type": "markdown",
      "source": [
        "Q.11 :- Mention a few built in function in python ?"
      ],
      "metadata": {
        "id": "ygvb13FM7UWB"
      }
    },
    {
      "cell_type": "markdown",
      "source": [
        "Answer : - print() , len() , type(), input() , range() , int() , float() , max() , sum()"
      ],
      "metadata": {
        "id": "eNXd-HRx76L-"
      }
    },
    {
      "cell_type": "markdown",
      "source": [
        "Q.12 : - What is the maximum possible length of an identifier in python ?"
      ],
      "metadata": {
        "id": "Qxjwkn8y8nXm"
      }
    },
    {
      "cell_type": "markdown",
      "source": [
        "Answer :- In Python, the maximum possible length of an identifier (variable name, function name, etc.) is not explicitly specified by the language specification. However, the practical limit is determined by the maximum size of a Python string object, which depends on the available system memory.\n",
        "\n",
        "in pep8 79 character possible length of an identifier in python"
      ],
      "metadata": {
        "id": "FAopBi4V9Oc5"
      }
    },
    {
      "cell_type": "markdown",
      "source": [
        "Q.13 :- What are the benefits of using python ?"
      ],
      "metadata": {
        "id": "6LCuHBVx-MF9"
      }
    },
    {
      "cell_type": "markdown",
      "source": [
        "Answer :-\n",
        "Python offers numerous benefits, which contribute to its popularity and widespread adoption across various domains. Some of the key benefits of using Python include:\n",
        "\n",
        "Readability and Simplicity: Python's syntax is designed to be clear, concise, and easy to read, which makes it ideal for both beginners and experienced programmers. Its indentation-based block structure enforces clean and organized code.\n",
        "\n",
        "Large Standard Library: Python comes with a comprehensive standard library that provides ready-to-use modules and functions for a wide range of tasks, from file I/O and networking to data manipulation and web development. This reduces the need to write code from scratch and accelerates development.\n",
        "\n",
        "Versatility and Flexibility: Python is a versatile language suitable for various applications, including web development, data analysis, machine learning, artificial intelligence, scientific computing, automation, and scripting. Its flexibility allows developers to use it in diverse projects and industries.\n",
        "\n",
        "Cross-Platform Compatibility: Python is available on multiple platforms, including Windows, macOS, and Linux, making it a cross-platform language. Code written in Python can run seamlessly across different operating systems without modification.\n",
        "\n",
        "Large and Active Community: Python has a vibrant and supportive community of developers, contributors, and users worldwide. The active community contributes to the continuous improvement of the language, provides valuable resources, libraries, frameworks, and fosters knowledge sharing through forums, conferences, and online communities.\n",
        "\n",
        "Extensive Third-Party Libraries and Frameworks: Python's ecosystem is rich with third-party libraries and frameworks that extend its capabilities and provide solutions for various domains. Popular libraries and frameworks like NumPy, pandas, Django, Flask, TensorFlow, and scikit-learn empower developers to build sophisticated applications efficiently.\n",
        "\n",
        "Rapid Development and Prototyping: Python's high-level features, dynamic typing, and interpreted nature facilitate rapid development and prototyping. Developers can quickly iterate on ideas, experiment with concepts, and build prototypes, accelerating the development lifecycle.\n",
        "\n",
        "Integration and Interoperability: Python seamlessly integrates with other programming languages and technologies, enabling interoperability with C/C++, Java, .NET, and more. It supports multiple data interchange formats and communication protocols, making it suitable for building complex systems and integrating with existing infrastructure.\n",
        "\n",
        "Strong Support for Data Science and Machine Learning: Python has emerged as a dominant language in the fields of data science, machine learning, and artificial intelligence. Its rich ecosystem of libraries and tools, such as NumPy, pandas, Matplotlib, scikit-learn, TensorFlow, and PyTorch, provides robust support for data analysis, modeling, visualization, and deep learning.\n",
        "\n",
        "Open Source and Free: Python is open-source software, licensed under the Python Software Foundation License (PSF). It is freely available for download, use, and distribution, making it accessible to individuals, businesses, educational institutions, and organizations worldwide.\n",
        "\n",
        "Overall, Python's simplicity, versatility, robust ecosystem, and community support make it an excellent choice for a wide range of projects and applications.\n",
        "\n",
        "\n",
        "\n",
        "\n"
      ],
      "metadata": {
        "id": "yEU_6Ia9-aKe"
      }
    },
    {
      "cell_type": "markdown",
      "source": [
        "Q.14 :- How is memory managed in python ?"
      ],
      "metadata": {
        "id": "YvPqOGjm-4pn"
      }
    },
    {
      "cell_type": "markdown",
      "source": [
        "Answer :- Memory management in Python is primarily handled by Python's memory manager, which operates behind the scenes to allocate and deallocate memory as needed. Python uses a combination of strategies, including reference counting and garbage collection, to manage memory efficiently. Here's how memory management works in Python:\n",
        "\n",
        "Reference Counting:\n",
        "\n",
        "Python uses reference counting to keep track of how many references there are to an object in memory.\n",
        "Every Python object has a reference count that indicates the number of references pointing to it.\n",
        "When an object is created or referenced, its reference count is incremented. When a reference is deleted or goes out of scope, the reference count is decremented.\n",
        "When the reference count of an object reaches zero, meaning there are no more references to it, Python deallocates the memory associated with the object.\n",
        "\n",
        "Garbage Collection:\n",
        "\n",
        "In addition to reference counting, Python also employs a garbage collector to deal with objects that may form circular references or cycles, which can prevent objects from being deallocated even if their reference counts reach zero.\n",
        "The garbage collector in Python periodically runs to identify and collect objects that are no longer reachable or referenced by the program.\n",
        "Python's garbage collector uses a generational garbage collection algorithm, which divides objects into different generations based on their age. Younger objects are more likely to become garbage, so the garbage collector focuses on collecting them first.\n",
        "\n",
        "Memory Pool:\n",
        "\n",
        "Python's memory manager uses a memory pool mechanism to efficiently allocate and manage memory for small objects.\n",
        "The memory pool preallocates memory in fixed-size chunks and manages these chunks using free lists to reduce the overhead of memory allocation and deallocation.\n",
        "\n",
        "Dynamic Typing:\n",
        "\n",
        "Python's dynamic typing allows variables to reference objects of different types during execution. This flexibility comes at the cost of additional memory overhead to store type information and manage object references.\n",
        "Overall, Python's memory management system combines reference counting, garbage collection, and memory pooling to provide automatic memory management while minimizing memory leaks and optimizing performance. However, developers should still be mindful of memory usage and avoid unnecessary object creation and retention to ensure efficient memory usage in their Python programs.\n",
        "\n",
        "\n",
        "\n",
        "\n"
      ],
      "metadata": {
        "id": "esNS_soU_TcE"
      }
    },
    {
      "cell_type": "markdown",
      "source": [
        "Q.15 :- How to install python on windows and set path variables ?"
      ],
      "metadata": {
        "id": "JFWhKEFQACeW"
      }
    },
    {
      "cell_type": "markdown",
      "source": [
        "Answer : - To install Python on Windows and set up the necessary path variables, you can follow these steps:\n",
        "\n",
        "Download Python Installer:\n",
        "\n",
        "Visit the official Python website at https://www.python.org/downloads/.\n",
        "Choose the version of Python you want to install (e.g., Python 3.10.0).\n",
        "Download the Windows installer (either 32-bit or 64-bit, depending on your system architecture).\n",
        "\n",
        "Run Python Installer:\n",
        "\n",
        "Once the installer is downloaded, double-click on it to run the installer.\n",
        "Check the box that says \"Add Python x.x to PATH\" during the installation process. This will automatically add Python to your system's PATH variable, allowing you to run Python from the command prompt without specifying the full path.\n",
        "\n",
        "Complete Installation:\n",
        "\n",
        "Follow the on-screen instructions to complete the installation process. You can choose the default settings or customize the installation as needed.\n",
        "Click \"Install Now\" to begin the installation process. Python will be installed in the default directory (e.g., C:\\Python39\\).\n",
        "\n",
        "Verify Installation:\n",
        "\n",
        "Once the installation is complete, you can verify that Python is installed correctly by opening a command prompt and typing python --version. This command should display the installed version of Python.\n",
        "\n",
        "Set PATH Variables (Optional):\n",
        "\n",
        "If you forgot to check the \"Add Python x.x to PATH\" option during installation, or if you want to manually add Python to your system's PATH variable:\n",
        "Right-click on \"This PC\" or \"My Computer\" and select \"Properties\".\n",
        "Click on \"Advanced system settings\" on the left-hand side.\n",
        "Click on the \"Environment Variables\" button.\n",
        "In the \"System Variables\" section, select the \"Path\" variable and click \"Edit\".\n",
        "Add the path to the Python installation directory (e.g., C:\\Python39\\) to the list of paths. Make sure to separate it from other paths with a semicolon (;).\n",
        "\n",
        "Verify PATH Setup:\n",
        "\n",
        "To verify that the PATH variable is set up correctly, open a new command prompt and type python --version. If Python is installed correctly and added to the PATH variable, it should display the installed Python version.\n",
        "That's it! Python is now installed on your Windows system, and you can start using it to run Python scripts and programs.\n",
        "\n",
        "\n",
        "\n",
        "\n"
      ],
      "metadata": {
        "id": "27S6jN4aAiOc"
      }
    },
    {
      "cell_type": "markdown",
      "source": [
        "Q.16 :- Is indentation required in python ?"
      ],
      "metadata": {
        "id": "kq8kS7fxBSDI"
      }
    },
    {
      "cell_type": "markdown",
      "source": [
        "Answer :- YES indentation required in python."
      ],
      "metadata": {
        "id": "Vf05D_nlBoHs"
      }
    }
  ]
}