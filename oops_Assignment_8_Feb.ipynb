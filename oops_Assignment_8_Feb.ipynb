{
  "nbformat": 4,
  "nbformat_minor": 0,
  "metadata": {
    "colab": {
      "provenance": []
    },
    "kernelspec": {
      "name": "python3",
      "display_name": "Python 3"
    },
    "language_info": {
      "name": "python"
    }
  },
  "cells": [
    {
      "cell_type": "markdown",
      "source": [
        "Q.1 :-  What is Abstraction in OOps? Explain with an example."
      ],
      "metadata": {
        "id": "aNwazR8TdLW8"
      }
    },
    {
      "cell_type": "markdown",
      "source": [
        "Answer :- Abstraction in object-oriented programming (OOP) is the concept of hiding the complex implementation details and showing only the necessary features of an object to the outside world. It allows programmers to focus on what an object does rather than how it does it. In other words, abstraction provides a simplified view of an object's functionality by exposing only the essential characteristics and hiding the implementation details."
      ],
      "metadata": {
        "id": "euHwH32MdSLv"
      }
    },
    {
      "cell_type": "markdown",
      "source": [
        "Q.2 :-  Differentiate between Abstraction and Encapsulation. Explain with an example"
      ],
      "metadata": {
        "id": "hXJUd28KfBu_"
      }
    },
    {
      "cell_type": "markdown",
      "source": [
        "Answer :- Definition: Abstraction is the process of hiding the complex implementation details and showing only the necessary features of an object to the outside world. It involves focusing on what an object does rather than how it achieves its functionality.\n",
        "\n",
        "Consider a remote control for a television. The remote control provides a set of buttons (features) such as power, volume up, volume down, and channel change. Users interact with the remote control without needing to understand the intricate details of how these buttons actually control the TV. The remote control abstracts away the complexities of the TV's internal workings, providing a simplified interface for users."
      ],
      "metadata": {
        "id": "FSC2GOO1fO0m"
      }
    },
    {
      "cell_type": "code",
      "source": [
        "# Abstraction example\n",
        "\n",
        "class TVRemoteControl:\n",
        "    def __init__(self, tv):\n",
        "        self.tv = tv\n",
        "\n",
        "    def power_button(self):\n",
        "        self.tv.toggle_power()\n",
        "\n",
        "    def volume_up_button(self):\n",
        "        self.tv.increase_volume()\n",
        "\n",
        "    def volume_down_button(self):\n",
        "        self.tv.decrease_volume()\n",
        "\n",
        "    def change_channel_button(self, channel):\n",
        "        self.tv.change_channel(channel)\n",
        "\n",
        "# Example TV class (simplified)\n",
        "class TV:\n",
        "    def __init__(self):\n",
        "        self.powered_on = False\n",
        "        self.volume = 10\n",
        "        self.current_channel = 1\n",
        "\n",
        "    def toggle_power(self):\n",
        "        self.powered_on = not self.powered_on\n",
        "\n",
        "    def increase_volume(self):\n",
        "        if self.powered_on:\n",
        "            self.volume += 1\n",
        "\n",
        "    def decrease_volume(self):\n",
        "        if self.powered_on and self.volume > 0:\n",
        "            self.volume -= 1\n",
        "\n",
        "    def change_channel(self, channel):\n",
        "        if self.powered_on:\n",
        "            self.current_channel = channel\n",
        "\n",
        "# Usage\n",
        "my_tv = TV()\n",
        "remote = TVRemoteControl(my_tv)\n",
        "\n",
        "remote.power_button()\n",
        "remote.volume_up_button()\n",
        "remote.change_channel_button(5)\n"
      ],
      "metadata": {
        "id": "oQGXEwvYhUPF"
      },
      "execution_count": 1,
      "outputs": []
    },
    {
      "cell_type": "markdown",
      "source": [
        "Encapsulation:\n",
        "\n",
        "Definition: Encapsulation is the bundling of data (attributes) and methods (functions) that operate on the data into a single unit, known as a class. It restricts access to some of an object's components and prevents the accidental modification of data\n",
        "\n",
        "Example:\n",
        "\n",
        "Continuing with the TV example, encapsulation involves combining the TV's state (attributes like powered_on, volume, and current_channel) with the methods that operate on that state within a class"
      ],
      "metadata": {
        "id": "l6DPl0YbhjsZ"
      }
    },
    {
      "cell_type": "code",
      "source": [
        "# Encapsulation example\n",
        "\n",
        "class TV:\n",
        "    def __init__(self):\n",
        "        self.__powered_on = False  # Private attribute\n",
        "        self.__volume = 10\n",
        "        self.__current_channel = 1\n",
        "\n",
        "    def toggle_power(self):\n",
        "        self.__powered_on = not self.__powered_on\n",
        "\n",
        "    def increase_volume(self):\n",
        "        if self.__powered_on:\n",
        "            self.__volume += 1\n",
        "\n",
        "    def decrease_volume(self):\n",
        "        if self.__powered_on and self.__volume > 0:\n",
        "            self.__volume -= 1\n",
        "\n",
        "    def change_channel(self, channel):\n",
        "        if self.__powered_on:\n",
        "            self.__current_channel = channel\n",
        "\n",
        "    # Getter methods (optional)\n",
        "    def get_power_status(self):\n",
        "        return self.__powered_on\n",
        "\n",
        "    def get_volume(self):\n",
        "        return self.__volume\n",
        "\n",
        "    def get_current_channel(self):\n",
        "        return self.__current_channel\n",
        "\n",
        "# Usage\n",
        "my_tv = TV()\n",
        "\n",
        "# Accessing state through public methods (encapsulation)\n",
        "my_tv.toggle_power()\n",
        "my_tv.increase_volume()\n",
        "my_tv.change_channel(5)\n",
        "\n",
        "# Accessing state directly (not recommended)\n",
        "# This would be discouraged in encapsulation to maintain control over data\n",
        "print(my_tv.__powered_on)  # Avoid direct access to private attributes\n"
      ],
      "metadata": {
        "id": "PQU8E2Cbh7b5"
      },
      "execution_count": null,
      "outputs": []
    },
    {
      "cell_type": "markdown",
      "source": [
        "In summary, abstraction focuses on simplifying the external view of an object's functionality, while encapsulation involves bundling data and methods into a single unit, controlling access to the object's components. Both concepts contribute to the design principles of OOP, promoting modularity, maintainability, and code organization."
      ],
      "metadata": {
        "id": "YnTfOmd6iI3X"
      }
    },
    {
      "cell_type": "markdown",
      "source": [
        "Q.3 :-  What is abc module in python? Why is it used?"
      ],
      "metadata": {
        "id": "Np1CRgbUiY0h"
      }
    },
    {
      "cell_type": "markdown",
      "source": [
        "Answer :- The abc module in Python stands for \"Abstract Base Classes\". It provides a way to define abstract base classes in Python and enforce the implementation of certain methods by subclasses. Abstract base classes are classes that are meant to be subclassed but not instantiated themselves.\n",
        "\n",
        "The abc module is used for several purposes:"
      ],
      "metadata": {
        "id": "ga3JGARqinRh"
      }
    },
    {
      "cell_type": "markdown",
      "source": [
        "Defining Abstract Base Classes (ABCs):\n",
        "\n",
        " You can define abstract base classes using the abc.ABC class as a base class. Abstract methods within these classes are declared but not implemented. Subclasses are then required to implement these abstract methods.\n",
        "\n",
        "Enforcing Interface Contracts:\n",
        "\n",
        " Abstract base classes help in defining interface contracts in Python. By defining abstract methods, you specify what methods subclasses must implement, thus enforcing a certain interface.\n",
        "\n",
        "Providing a Common Interface:\n",
        "\n",
        "Abstract base classes provide a way to establish a common interface among related classes, ensuring consistency and interoperability.\n",
        "\n",
        "Documentation and Code Clarity:\n",
        "\n",
        " The use of abstract base classes makes the code more explicit and readable. It clearly communicates to other developers what methods are expected to be implemented by subclasses"
      ],
      "metadata": {
        "id": "eSZVOxQrjJwk"
      }
    },
    {
      "cell_type": "markdown",
      "source": [
        "Q.4 :-  How can we achieve data abstraction?"
      ],
      "metadata": {
        "id": "iGJhn0Lfjhw2"
      }
    },
    {
      "cell_type": "markdown",
      "source": [
        "Answer :- Data abstraction in programming involves hiding the implementation details of data and providing only the essential features or functionalities to the outside world. It allows users to interact with data without needing to understand the internal complexities of how it's implemented. In object-oriented programming (OOP), data abstraction is typically achieved using classes, encapsulation, and access control mechanisms.\n",
        "\n",
        "Here are the key steps to achieve data abstraction:"
      ],
      "metadata": {
        "id": "SdRIRnQbjuqZ"
      }
    },
    {
      "cell_type": "markdown",
      "source": [
        "Define Classes: Define classes to represent the data and the operations that can be performed on that data. Classes serve as blueprints for creating objects.\n",
        "\n",
        "Encapsulation: Encapsulate the data within the classes by making use of access specifiers such as private, protected, and public. This restricts direct access to the internal state of objects and ensures that data can only be accessed through controlled interfaces (methods).\n",
        "\n",
        "Use Accessor Methods: Provide accessor methods (getters) to retrieve the values of private attributes. Accessor methods allow controlled access to the data, enabling users to retrieve the data without directly accessing the attributes.\n",
        "\n",
        "Use Mutator Methods: Provide mutator methods (setters) to modify the values of private attributes. Mutator methods allow controlled modification of the data, enabling users to update the data through predefined interfaces.\n",
        "\n",
        "Hide Implementation Details: Hide the implementation details of data operations by providing high-level methods that abstract away the internal complexities. Users interact with these high-level methods without needing to know how the operations are implemented.\n",
        "\n",
        "Document Interfaces: Document the public interfaces of classes and methods to provide clear guidance on how to interact with the data. Documenting interfaces helps users understand what functionalities are available and how to use them."
      ],
      "metadata": {
        "id": "XnUDWNKPkFgM"
      }
    },
    {
      "cell_type": "markdown",
      "source": [
        "Q.5 :-  Can we create an instance of an abstract class? Explain your answer."
      ],
      "metadata": {
        "id": "NMr7JLaHkZOh"
      }
    },
    {
      "cell_type": "markdown",
      "source": [
        "Answer :- In Python, you cannot create an instance of an abstract class directly. Attempting to instantiate an abstract class will result in a TypeError because abstract classes are designed to be incomplete and are meant to be subclassed, providing concrete implementations for their abstract methods.\n",
        "\n",
        "Abstract classes in Python are typically defined using the abc module, specifically by inheriting from the ABC class and using the abstractmethod decorator to declare methods that must be implemented by subclasses."
      ],
      "metadata": {
        "id": "q1kzaJCGkka5"
      }
    },
    {
      "cell_type": "code",
      "source": [
        "from abc import ABC, abstractmethod\n",
        "\n",
        "# Abstract class\n",
        "class Shape(ABC):\n",
        "    @abstractmethod\n",
        "    def area(self):\n",
        "        pass\n",
        "\n",
        "# Attempting to create an instance of the abstract class\n",
        "try:\n",
        "    shape = Shape()  # This will raise a TypeError\n",
        "except TypeError as e:\n",
        "    print(\"Error:\", e)\n"
      ],
      "metadata": {
        "colab": {
          "base_uri": "https://localhost:8080/"
        },
        "id": "gBuKzOPVlEOp",
        "outputId": "cca64bdf-38c5-4754-a961-21b4c4eb802f"
      },
      "execution_count": 4,
      "outputs": [
        {
          "output_type": "stream",
          "name": "stdout",
          "text": [
            "Error: Can't instantiate abstract class Shape with abstract method area\n"
          ]
        }
      ]
    },
    {
      "cell_type": "code",
      "source": [],
      "metadata": {
        "id": "95EwskMFkQDJ"
      },
      "execution_count": null,
      "outputs": []
    },
    {
      "cell_type": "code",
      "source": [],
      "metadata": {
        "id": "y62jQemxhPZP"
      },
      "execution_count": null,
      "outputs": []
    },
    {
      "cell_type": "code",
      "source": [],
      "metadata": {
        "id": "pPUXJVOHfA7f"
      },
      "execution_count": null,
      "outputs": []
    },
    {
      "cell_type": "code",
      "execution_count": null,
      "metadata": {
        "id": "RR2otfE8c3JD"
      },
      "outputs": [],
      "source": []
    }
  ]
}