{
  "nbformat": 4,
  "nbformat_minor": 0,
  "metadata": {
    "colab": {
      "provenance": []
    },
    "kernelspec": {
      "name": "python3",
      "display_name": "Python 3"
    },
    "language_info": {
      "name": "python"
    }
  },
  "cells": [
    {
      "cell_type": "markdown",
      "source": [
        "Q.1:- Which keyword is used to create a function? Create a function to return a list of odd numbers in the\n",
        "range of 1 to 25"
      ],
      "metadata": {
        "id": "IVIw8yiKjRYe"
      }
    },
    {
      "cell_type": "markdown",
      "source": [
        "Answer :- def keyword is used to create a function ."
      ],
      "metadata": {
        "id": "_zdsjs5Dj_7p"
      }
    },
    {
      "cell_type": "code",
      "source": [
        "def get_odd_numbers():\n",
        "    odd_numbers = []\n",
        "    for num in range(1, 26):\n",
        "        if num % 2 != 0:\n",
        "            odd_numbers.append(num)\n",
        "    return odd_numbers\n",
        "\n",
        "result = get_odd_numbers()\n",
        "print(result)\n"
      ],
      "metadata": {
        "colab": {
          "base_uri": "https://localhost:8080/"
        },
        "id": "QJ2zUWJhkX2u",
        "outputId": "a9955a71-92ef-4d06-bea6-9317dfc45412"
      },
      "execution_count": 1,
      "outputs": [
        {
          "output_type": "stream",
          "name": "stdout",
          "text": [
            "[1, 3, 5, 7, 9, 11, 13, 15, 17, 19, 21, 23, 25]\n"
          ]
        }
      ]
    },
    {
      "cell_type": "markdown",
      "source": [],
      "metadata": {
        "id": "Aaua9_slmleo"
      }
    },
    {
      "cell_type": "markdown",
      "source": [
        " Q.2 :- Why *args and **kwargs is used in some functions? Create a function each for *args and **kwargs\n",
        "to demonstrate their use.\n",
        "\n",
        "Answer :-*args and **kwargs are used in Python functions to accept a variable number of positional arguments and keyword arguments, respectively."
      ],
      "metadata": {
        "id": "rvlSOp3omFpD"
      }
    },
    {
      "cell_type": "code",
      "source": [
        "# Function using *args to accept variable number of positional arguments\n",
        "def sum_numbers(*args):\n",
        "    total = 0\n",
        "    for num in args:\n",
        "        total += num\n",
        "    return total\n",
        "\n",
        "# Function using **kwargs to accept variable number of keyword arguments\n",
        "def display_info(**kwargs):\n",
        "    for key, value in kwargs.items():\n",
        "        print(f\"{key}: {value}\")\n",
        "\n",
        "# Demonstration\n",
        "print(\"Using *args:\")\n",
        "print(sum_numbers(1, 2, 3, 4, 5))  # Output: 15 (1 + 2 + 3 + 4 + 5)\n",
        "\n",
        "print(\"\\nUsing **kwargs:\")\n",
        "display_info(name=\"John\", age=30, city=\"New York\")\n",
        "# Output:\n",
        "# name: John\n",
        "# age: 30\n",
        "# city: New York\n"
      ],
      "metadata": {
        "colab": {
          "base_uri": "https://localhost:8080/"
        },
        "id": "ev_CIca_mfnI",
        "outputId": "87228045-b759-4a5a-8e42-958c477b42d7"
      },
      "execution_count": 2,
      "outputs": [
        {
          "output_type": "stream",
          "name": "stdout",
          "text": [
            "Using *args:\n",
            "15\n",
            "\n",
            "Using **kwargs:\n",
            "name: John\n",
            "age: 30\n",
            "city: New York\n"
          ]
        }
      ]
    },
    {
      "cell_type": "markdown",
      "source": [
        "In the sum_numbers function, *args allows it to accept any number of positional arguments. It then iterates over these arguments and calculates their sum.\n",
        "\n",
        "In the display_info function, **kwargs allows it to accept any number of keyword arguments. It then iterates over the keyword arguments and prints out their key-value pairs.\n",
        "\n",
        "\n",
        "\n",
        "\n"
      ],
      "metadata": {
        "id": "Wsc3tN7DnicQ"
      }
    },
    {
      "cell_type": "markdown",
      "source": [
        "Q.3 :- .  What is an iterator in python? Name the method used to initialise the iterator object and the method\n",
        "used for iteration. Use these methods to print the first five elements of the given list [2, 4, 6, 8, 10, 12, 14,\n",
        "16, 18, 20]"
      ],
      "metadata": {
        "id": "OoF6mo5vnwlp"
      }
    },
    {
      "cell_type": "markdown",
      "source": [
        "Answer :- In Python, an iterator is an object that represents a stream of data and allows iteration over elements within a container, such as lists, tuples, or dictionaries. Iterators implement two methods, __iter__() and __next__(), which are used for initialization and iteration, respectively.\n",
        "\n",
        "__iter__(): This method initializes the iterator object and returns itself.\n",
        "__next__(): This method is used to retrieve the next element in the sequence. When there are no more elements, it raises the StopIteration exception"
      ],
      "metadata": {
        "id": "uOUU3vUFoPwf"
      }
    },
    {
      "cell_type": "code",
      "source": [
        "# Define the list\n",
        "my_list = [2, 4, 6, 8, 10, 12, 14, 16, 18, 20]\n",
        "\n",
        "# Create an iterator object\n",
        "my_iterator = iter(my_list)\n",
        "\n",
        "# Use the iterator to print the first five elements\n",
        "for my_list in range(5):\n",
        "    print(next(my_iterator))\n"
      ],
      "metadata": {
        "colab": {
          "base_uri": "https://localhost:8080/"
        },
        "id": "UGWclvDopCbJ",
        "outputId": "12ebc1c1-5be7-4273-a849-f7baee585c85"
      },
      "execution_count": 4,
      "outputs": [
        {
          "output_type": "stream",
          "name": "stdout",
          "text": [
            "2\n",
            "4\n",
            "6\n",
            "8\n",
            "10\n"
          ]
        }
      ]
    },
    {
      "cell_type": "markdown",
      "source": [
        "Q.4 :- What is a generator function in python? Why yield keyword is used? Give an example of a generator\n",
        "function."
      ],
      "metadata": {
        "id": "-rL2SRu4pvk2"
      }
    },
    {
      "cell_type": "markdown",
      "source": [
        "Answer :-\n",
        "A generator function in Python is a special type of function that allows you to generate a sequence of values over time rather than computing and returning them all at once. It uses the yield keyword instead of return to return values one at a time. Generator functions are memory efficient as they do not store the entire sequence of values in memory; instead, they generate values on the fly as they are requested.\n",
        "\n",
        "The yield keyword is used in generator functions to yield (or produce) a value to the caller while preserving the state of the function. When a generator function encounters a yield statement, it temporarily suspends its execution and yields the value to the caller. Later, when the generator function is called again, it resumes execution from where it left off, maintaining its state."
      ],
      "metadata": {
        "id": "3j_kefpop8Ro"
      }
    },
    {
      "cell_type": "code",
      "source": [
        "def fibonacci_generator():\n",
        "    a, b = 0, 1\n",
        "    while True:\n",
        "        yield a\n",
        "        a, b = b, a + b\n",
        "\n",
        "# Create a generator object\n",
        "fib_gen = fibonacci_generator()\n",
        "\n",
        "# Generate and print the first 10 Fibonacci numbers\n",
        "for fibonacci_generator in range(10):\n",
        "    print(next(fib_gen))\n"
      ],
      "metadata": {
        "colab": {
          "base_uri": "https://localhost:8080/"
        },
        "id": "hjgoa-H9qaAu",
        "outputId": "0b6dfe5d-4610-43dc-e721-b805b4395f42"
      },
      "execution_count": 8,
      "outputs": [
        {
          "output_type": "stream",
          "name": "stdout",
          "text": [
            "0\n",
            "1\n",
            "1\n",
            "2\n",
            "3\n",
            "5\n",
            "8\n",
            "13\n",
            "21\n",
            "34\n"
          ]
        }
      ]
    },
    {
      "cell_type": "markdown",
      "source": [
        "Q.5 :-  Create a generator function for prime numbers less than 1000. Use the next() method to print the\n",
        "first 20 prime numbers"
      ],
      "metadata": {
        "id": "FrauwDRersza"
      }
    },
    {
      "cell_type": "code",
      "source": [
        "def prime_generator():\n",
        "    # Initialize a list to store prime numbers\n",
        "    primes = []\n",
        "    num = 2\n",
        "\n",
        "    while num < 1000:\n",
        "        is_prime = True\n",
        "        # Check if num is divisible by any number less than itself\n",
        "        for divisor in range(2, int(num ** 0.5) + 1):\n",
        "            if num % divisor == 0:\n",
        "                is_prime = False\n",
        "                break\n",
        "        # If num is prime, yield it\n",
        "        if is_prime:\n",
        "            yield num\n",
        "            primes.append(num)\n",
        "        num += 1\n",
        "\n",
        "# Create a generator object\n",
        "prime_gen = prime_generator()\n",
        "\n",
        "# Print the first 20 prime numbers\n",
        "for prime_generator in range(20):\n",
        "    print(next(prime_gen))\n"
      ],
      "metadata": {
        "colab": {
          "base_uri": "https://localhost:8080/"
        },
        "id": "CEp8Vg4zo_ZL",
        "outputId": "0d78d08e-ae90-4666-dc89-45660432a62d"
      },
      "execution_count": 10,
      "outputs": [
        {
          "output_type": "stream",
          "name": "stdout",
          "text": [
            "2\n",
            "3\n",
            "5\n",
            "7\n",
            "11\n",
            "13\n",
            "17\n",
            "19\n",
            "23\n",
            "29\n",
            "31\n",
            "37\n",
            "41\n",
            "43\n",
            "47\n",
            "53\n",
            "59\n",
            "61\n",
            "67\n",
            "71\n"
          ]
        }
      ]
    },
    {
      "cell_type": "markdown",
      "source": [
        "Q.6 :-  Write a python program to print the first 10 Fibonacci numbers using a while loop."
      ],
      "metadata": {
        "id": "Ol_FtYWdtLwZ"
      }
    },
    {
      "cell_type": "code",
      "source": [
        "a = 0\n",
        "b = 1\n",
        "counter = 0\n",
        "while counter < 10:\n",
        "  print(a)\n",
        "  c = a+b\n",
        "  a = b\n",
        "  b = c\n",
        "  counter = counter + 1\n"
      ],
      "metadata": {
        "colab": {
          "base_uri": "https://localhost:8080/"
        },
        "id": "KimdOwUmtZXl",
        "outputId": "c9122433-d5a2-4cf9-dd44-093cc672240e"
      },
      "execution_count": 11,
      "outputs": [
        {
          "output_type": "stream",
          "name": "stdout",
          "text": [
            "0\n",
            "1\n",
            "1\n",
            "2\n",
            "3\n",
            "5\n",
            "8\n",
            "13\n",
            "21\n",
            "34\n"
          ]
        }
      ]
    },
    {
      "cell_type": "markdown",
      "source": [],
      "metadata": {
        "id": "bY8FD9m4vzpj"
      }
    },
    {
      "cell_type": "markdown",
      "source": [
        "Q.7 :-  Write a List Comprehension to iterate through the given string: ‘pwskills’.\n",
        "\n",
        "Expected output: ['p', 'w', 's', 'k', 'i', 'l', 'l', 's']"
      ],
      "metadata": {
        "id": "QrTmYD7Pvsf4"
      }
    },
    {
      "cell_type": "code",
      "source": [
        "string = \"pwskills\"\n",
        "[ i for i in string]"
      ],
      "metadata": {
        "colab": {
          "base_uri": "https://localhost:8080/"
        },
        "id": "1tfSynELwEAj",
        "outputId": "762e8a04-a5fd-411d-8a71-5b3dd825dc07"
      },
      "execution_count": 13,
      "outputs": [
        {
          "output_type": "execute_result",
          "data": {
            "text/plain": [
              "['p', 'w', 's', 'k', 'i', 'l', 'l', 's']"
            ]
          },
          "metadata": {},
          "execution_count": 13
        }
      ]
    },
    {
      "cell_type": "markdown",
      "source": [
        "Q.8 :- Write a python program to check whether a given number is Palindrome or not using a while loop"
      ],
      "metadata": {
        "id": "ep0_Ic2CxO9g"
      }
    },
    {
      "cell_type": "code",
      "source": [
        "def is_palindrome(num):\n",
        "    original_num = num\n",
        "    reverse_num = 0\n",
        "\n",
        "    while num > 0:\n",
        "        digit = num % 10\n",
        "        reverse_num = reverse_num * 10 + digit\n",
        "        num = num // 10\n",
        "\n",
        "    return original_num == reverse_num\n",
        "\n",
        "# Get input from the user\n",
        "number = int(input(\"Enter a number: \"))\n",
        "\n",
        "# Check if the number is a palindrome\n",
        "if is_palindrome(number):\n",
        "    print(f\"{number} is a palindrome.\")\n",
        "else:\n",
        "    print(f\"{number} is not a palindrome.\")\n"
      ],
      "metadata": {
        "colab": {
          "base_uri": "https://localhost:8080/"
        },
        "id": "bSfKFhyDxdQ6",
        "outputId": "50224042-f240-4a78-89da-dd9bfdd8f228"
      },
      "execution_count": 17,
      "outputs": [
        {
          "output_type": "stream",
          "name": "stdout",
          "text": [
            "Enter a number: 121\n",
            "121 is a palindrome.\n"
          ]
        }
      ]
    },
    {
      "cell_type": "markdown",
      "source": [
        "Q.9 :-  Write a code to print odd numbers from 1 to 100 using list comprehension"
      ],
      "metadata": {
        "id": "hCbYusn1y2UA"
      }
    },
    {
      "cell_type": "code",
      "source": [
        "[i for i in range(1,100) if i % 2!=0]"
      ],
      "metadata": {
        "colab": {
          "base_uri": "https://localhost:8080/"
        },
        "id": "FinbqFUwzEww",
        "outputId": "0aaba5fb-df47-43fc-8bfc-a72d3aa0b9df"
      },
      "execution_count": 18,
      "outputs": [
        {
          "output_type": "execute_result",
          "data": {
            "text/plain": [
              "[1,\n",
              " 3,\n",
              " 5,\n",
              " 7,\n",
              " 9,\n",
              " 11,\n",
              " 13,\n",
              " 15,\n",
              " 17,\n",
              " 19,\n",
              " 21,\n",
              " 23,\n",
              " 25,\n",
              " 27,\n",
              " 29,\n",
              " 31,\n",
              " 33,\n",
              " 35,\n",
              " 37,\n",
              " 39,\n",
              " 41,\n",
              " 43,\n",
              " 45,\n",
              " 47,\n",
              " 49,\n",
              " 51,\n",
              " 53,\n",
              " 55,\n",
              " 57,\n",
              " 59,\n",
              " 61,\n",
              " 63,\n",
              " 65,\n",
              " 67,\n",
              " 69,\n",
              " 71,\n",
              " 73,\n",
              " 75,\n",
              " 77,\n",
              " 79,\n",
              " 81,\n",
              " 83,\n",
              " 85,\n",
              " 87,\n",
              " 89,\n",
              " 91,\n",
              " 93,\n",
              " 95,\n",
              " 97,\n",
              " 99]"
            ]
          },
          "metadata": {},
          "execution_count": 18
        }
      ]
    },
    {
      "cell_type": "code",
      "source": [],
      "metadata": {
        "id": "L3Dp3LqbnGH9"
      },
      "execution_count": null,
      "outputs": []
    },
    {
      "cell_type": "markdown",
      "source": [],
      "metadata": {
        "id": "mR8flTcVl1DL"
      }
    },
    {
      "cell_type": "code",
      "source": [],
      "metadata": {
        "id": "kvckanrbvyC5"
      },
      "execution_count": null,
      "outputs": []
    }
  ]
}