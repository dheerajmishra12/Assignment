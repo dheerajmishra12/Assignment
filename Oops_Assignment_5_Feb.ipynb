{
  "nbformat": 4,
  "nbformat_minor": 0,
  "metadata": {
    "colab": {
      "provenance": []
    },
    "kernelspec": {
      "name": "python3",
      "display_name": "Python 3"
    },
    "language_info": {
      "name": "python"
    }
  },
  "cells": [
    {
      "cell_type": "markdown",
      "source": [
        "Q.1 :-  Explain Class and Object with respect to Object-Oriented Programming. Give a suitable example"
      ],
      "metadata": {
        "id": "w5QlruX2DSCw"
      }
    },
    {
      "cell_type": "markdown",
      "source": [
        "Answer :- Class:\n",
        "\n",
        "A class is a template or blueprint that defines the properties (attributes) and behaviors (methods) that objects of that class will have.\n",
        "It encapsulates data for the object and defines methods to manipulate that data.\n",
        "Classes are used to create objects with similar characteristics and behaviors.\n",
        "They serve as a blueprint for creating multiple instances (objects) that share the same structure and behavior.\n",
        "\n",
        "Object:\n",
        "\n",
        "An object is an instance of a class. It is a concrete entity that exists in memory and can be manipulated through methods defined in its class.\n",
        "Objects have state (attributes) and behavior (methods) associated with them, as defined by their class.\n",
        "Each object represents a unique instance of the class, with its own set of attributes and methods."
      ],
      "metadata": {
        "id": "_NJ4thMzDeh2"
      }
    },
    {
      "cell_type": "code",
      "source": [
        "class pwskills1 :\n",
        "\n",
        "  def __init__(self , phone_number , email_id , student_id ):\n",
        "    self.phone_number = phone_number\n",
        "    self.email_id = email_id\n",
        "    self.student_id = student_id\n",
        "\n",
        "  def return_student_details(self) :\n",
        "    return self.student_id , self.email_id , self.phone_number"
      ],
      "metadata": {
        "id": "_xK4UWoqEbHG"
      },
      "execution_count": 1,
      "outputs": []
    },
    {
      "cell_type": "code",
      "source": [
        "dheeraj = pwskills1(8873714003,\"dheeraj@2000\",123)"
      ],
      "metadata": {
        "id": "X9NjcEXqFYwG"
      },
      "execution_count": 2,
      "outputs": []
    },
    {
      "cell_type": "code",
      "source": [
        "dheeraj.return_student_details()"
      ],
      "metadata": {
        "colab": {
          "base_uri": "https://localhost:8080/"
        },
        "id": "EwYEU9W5Fa7-",
        "outputId": "7e27a539-4542-4be3-f271-bcb72a7d2285"
      },
      "execution_count": 3,
      "outputs": [
        {
          "output_type": "execute_result",
          "data": {
            "text/plain": [
              "(123, 'dheeraj@2000', 8873714003)"
            ]
          },
          "metadata": {},
          "execution_count": 3
        }
      ]
    },
    {
      "cell_type": "markdown",
      "source": [
        " Q.2 :- Name the four pillars of OOPs."
      ],
      "metadata": {
        "id": "DRLGuLtiFifU"
      }
    },
    {
      "cell_type": "markdown",
      "source": [
        "Answer :- Four pillars of oops are :    \n",
        "1 - Polymorphism\n",
        "2 - Inheritence\n",
        "3 - Encapsulation\n",
        "4 - Abstraction\n"
      ],
      "metadata": {
        "id": "YUq-bV52F-mq"
      }
    },
    {
      "cell_type": "markdown",
      "source": [
        "Q.3 :-  Explain why the __init__() function is used. Give a suitable example."
      ],
      "metadata": {
        "id": "0cbqoii2GrgY"
      }
    },
    {
      "cell_type": "markdown",
      "source": [
        "Answer :-\n",
        "In Python, the __init__() function is a special method used for initializing newly created objects. It is called automatically when a new instance of a class is created. The primary purpose of the __init__() method is to set up the initial state of an object by initializing its attributes or performing any necessary setup tasks."
      ],
      "metadata": {
        "id": "9ZWYHK2klUd3"
      }
    },
    {
      "cell_type": "code",
      "source": [
        "class Dog:\n",
        "    def __init__(self, name, age):\n",
        "        self.name = name\n",
        "        self.age = age\n",
        "\n",
        "    def sit(self):\n",
        "        print(f\"{self.name} is sitting.\")\n",
        "\n",
        "    def roll_over(self):\n",
        "        print(f\"{self.name} is rolling over.\")\n",
        "\n",
        "# Creating instances of the Dog class\n",
        "dog1 = Dog('Buddy', 3)\n",
        "dog2 = Dog('Max', 5)\n",
        "\n",
        "# Accessing attributes and calling methods\n",
        "print(f\"{dog1.name} is {dog1.age} years old.\")\n",
        "dog1.sit()\n",
        "\n",
        "print(f\"{dog2.name} is {dog2.age} years old.\")\n",
        "dog2.roll_over()\n"
      ],
      "metadata": {
        "colab": {
          "base_uri": "https://localhost:8080/"
        },
        "id": "EOwefMN8nQ18",
        "outputId": "6d38636a-3bd5-4b0e-81d9-e49513615f9c"
      },
      "execution_count": 1,
      "outputs": [
        {
          "output_type": "stream",
          "name": "stdout",
          "text": [
            "Buddy is 3 years old.\n",
            "Buddy is sitting.\n",
            "Max is 5 years old.\n",
            "Max is rolling over.\n"
          ]
        }
      ]
    },
    {
      "cell_type": "markdown",
      "source": [
        "Q.4 :- . Why self is used in OOPs?"
      ],
      "metadata": {
        "id": "DHmM9rWDoCN0"
      }
    },
    {
      "cell_type": "markdown",
      "source": [
        "Answer :- In object-oriented programming (OOP), self is a convention and a reference variable used within a class to represent the instance of the class itself. It is the first parameter in the method definitions of a class and is automatically passed when calling the method on an instance of the class. The use of self is crucial for several reasons:"
      ],
      "metadata": {
        "id": "WLhYJ3W5oTi3"
      }
    },
    {
      "cell_type": "markdown",
      "source": [
        "Q.5 :-  What is inheritance? Give an example for each type of inheritance."
      ],
      "metadata": {
        "id": "LM6qs_BZpLm1"
      }
    },
    {
      "cell_type": "markdown",
      "source": [
        "Answer :- Inheritance is a fundamental concept in object-oriented programming (OOP) that allows a new class (subclass or derived class) to inherit properties and behaviors (attributes and methods) from an existing class (superclass or base class). This enables code reuse and promotes the creation of a hierarchical relationship between classes.\n",
        "\n",
        "There are several types of inheritance:\n",
        "\n",
        "Single Inheritance:\n",
        "In single inheritance, a subclass inherits from only one superclass.\n",
        "Example of Single Inheritance"
      ],
      "metadata": {
        "id": "5GkkEJlupkIu"
      }
    },
    {
      "cell_type": "code",
      "source": [
        "class Animal:\n",
        "    def speak(self):\n",
        "        print(\"Animal speaks\")\n",
        "\n",
        "class Dog(Animal):  # Dog inherits from Animal\n",
        "    def bark(self):\n",
        "        print(\"Dog barks\")\n",
        "\n",
        "dog = Dog()\n",
        "dog.speak()  # Inherits 'speak' method from Animal class\n",
        "dog.bark()   # 'bark' method is specific to Dog class\n"
      ],
      "metadata": {
        "colab": {
          "base_uri": "https://localhost:8080/"
        },
        "id": "q-5we8Cfq4jm",
        "outputId": "d890df02-bd0d-4dbd-c750-c25196249b1c"
      },
      "execution_count": 2,
      "outputs": [
        {
          "output_type": "stream",
          "name": "stdout",
          "text": [
            "Animal speaks\n",
            "Dog barks\n"
          ]
        }
      ]
    },
    {
      "cell_type": "markdown",
      "source": [
        "Multiple Inheritance:\n",
        "Multiple inheritance occurs when a class inherits from more than one superclass.\n",
        "\n",
        "Example of Multiple Inheritance :"
      ],
      "metadata": {
        "id": "_GZgMErUri3A"
      }
    },
    {
      "cell_type": "code",
      "source": [
        "class Parent1:\n",
        "    def method1(self):\n",
        "        print(\"Method 1 of Parent 1\")\n",
        "\n",
        "class Parent2:\n",
        "    def method2(self):\n",
        "        print(\"Method 2 of Parent 2\")\n",
        "\n",
        "class Child(Parent1, Parent2):  # Child class inherits from both Parent1 and Parent2\n",
        "    def method3(self):\n",
        "        print(\"Method 3 of Child\")\n",
        "\n",
        "child = Child()\n",
        "child.method1()  # Inherits 'method1' from Parent1\n",
        "child.method2()  # Inherits 'method2' from Parent2\n",
        "child.method3()  # 'method3' is specific to Child class\n"
      ],
      "metadata": {
        "colab": {
          "base_uri": "https://localhost:8080/"
        },
        "id": "sScr56B1rkQV",
        "outputId": "06cbf287-e386-48ee-dd40-99efaf891d6f"
      },
      "execution_count": 3,
      "outputs": [
        {
          "output_type": "stream",
          "name": "stdout",
          "text": [
            "Method 1 of Parent 1\n",
            "Method 2 of Parent 2\n",
            "Method 3 of Child\n"
          ]
        }
      ]
    },
    {
      "cell_type": "markdown",
      "source": [
        "Multilevel Inheritance:\n",
        "Multilevel inheritance involves a chain of inheritance where a subclass inherits from another subclass.\n",
        "\n",
        "Example of Multilevel Inheritance:"
      ],
      "metadata": {
        "id": "q6X6qvIesMQX"
      }
    },
    {
      "cell_type": "code",
      "source": [
        "class A:\n",
        "    def method_A(self):\n",
        "        print(\"Method A of class A\")\n",
        "\n",
        "class B(A):  # Class B inherits from class A\n",
        "    def method_B(self):\n",
        "        print(\"Method B of class B\")\n",
        "\n",
        "class C(B):  # Class C inherits from class B, which already inherits from class A\n",
        "    def method_C(self):\n",
        "        print(\"Method C of class C\")\n",
        "\n",
        "obj = C()\n",
        "obj.method_A()  # Inherits 'method_A' from class A\n",
        "obj.method_B()  # Inherits 'method_B' from class B\n",
        "obj.method_C()  # 'method_C' is specific to class C\n"
      ],
      "metadata": {
        "colab": {
          "base_uri": "https://localhost:8080/"
        },
        "id": "pinZsJRMsZeX",
        "outputId": "3d5a8b4b-d464-42e9-8d5e-2107a4d27f8f"
      },
      "execution_count": 4,
      "outputs": [
        {
          "output_type": "stream",
          "name": "stdout",
          "text": [
            "Method A of class A\n",
            "Method B of class B\n",
            "Method C of class C\n"
          ]
        }
      ]
    },
    {
      "cell_type": "markdown",
      "source": [
        "Hierarchical Inheritance:\n",
        "Hierarchical inheritance involves multiple subclasses inheriting from a single superclass.\n",
        "\n",
        "Example of Hierarchical Inheritance:"
      ],
      "metadata": {
        "id": "-q85kYjds846"
      }
    },
    {
      "cell_type": "code",
      "source": [
        "class Animal:\n",
        "    def speak(self):\n",
        "        print(\"Animal speaks\")\n",
        "\n",
        "class Dog(Animal):  # Dog inherits from Animal\n",
        "    def bark(self):\n",
        "        print(\"Dog barks\")\n",
        "\n",
        "class Cat(Animal):  # Cat also inherits from Animal\n",
        "    def meow(self):\n",
        "        print(\"Cat meows\")\n",
        "\n",
        "dog = Dog()\n",
        "dog.speak()  # Inherits 'speak' method from Animal class\n",
        "dog.bark()   # 'bark' method is specific to Dog class\n",
        "\n",
        "cat = Cat()\n",
        "cat.speak()  # Inherits 'speak' method from Animal class\n",
        "cat.meow()   # 'meow' method is specific to Cat class\n"
      ],
      "metadata": {
        "colab": {
          "base_uri": "https://localhost:8080/"
        },
        "id": "AaE4Zu9xtGVs",
        "outputId": "6667ba49-d63d-4a6b-f9e1-9c2f0a8591c3"
      },
      "execution_count": 5,
      "outputs": [
        {
          "output_type": "stream",
          "name": "stdout",
          "text": [
            "Animal speaks\n",
            "Dog barks\n",
            "Animal speaks\n",
            "Cat meows\n"
          ]
        }
      ]
    }
  ]
}