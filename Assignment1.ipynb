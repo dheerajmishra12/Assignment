{
  "nbformat": 4,
  "nbformat_minor": 0,
  "metadata": {
    "colab": {
      "provenance": []
    },
    "kernelspec": {
      "name": "python3",
      "display_name": "Python 3"
    },
    "language_info": {
      "name": "python"
    }
  },
  "cells": [
    {
      "cell_type": "markdown",
      "source": [
        "Q.1 :-  Explain with an example each when to use a for loop and a while loop.\n",
        "\n",
        "Answer: - A for loop is typically used when you know the number of times you want to iterate or loop over a block of code.\n",
        "\n",
        "for example\n"
      ],
      "metadata": {
        "id": "Qjttjjj3v3yA"
      }
    },
    {
      "cell_type": "code",
      "source": [
        "for i in range(1, 6):\n",
        "    print(i)\n",
        "\n",
        "\n",
        "\n",
        "\n"
      ],
      "metadata": {
        "colab": {
          "base_uri": "https://localhost:8080/"
        },
        "id": "MCma5vnUwVu5",
        "outputId": "7778c797-ad25-4412-bd04-57ef6d5b95f6"
      },
      "execution_count": null,
      "outputs": [
        {
          "output_type": "stream",
          "name": "stdout",
          "text": [
            "1\n",
            "2\n",
            "3\n",
            "4\n",
            "5\n"
          ]
        }
      ]
    },
    {
      "cell_type": "markdown",
      "source": [
        "While loop :-\n",
        "\n",
        "A while loop is used when you want to repeat a block of code as long as a condition is true. It's useful when you don't know in advance how many times the loop will run.\n",
        "\n",
        "for example : -\n",
        "\n"
      ],
      "metadata": {
        "id": "gXlo5JkMw4E7"
      }
    },
    {
      "cell_type": "code",
      "source": [
        "i = 1\n",
        "while i <= 5:\n",
        "    print(i)\n",
        "    i += 1\n"
      ],
      "metadata": {
        "colab": {
          "base_uri": "https://localhost:8080/"
        },
        "id": "ok3CJ1LvxTbe",
        "outputId": "4db0ae0a-b5b4-402f-f552-999f465584fe"
      },
      "execution_count": null,
      "outputs": [
        {
          "output_type": "stream",
          "name": "stdout",
          "text": [
            "1\n",
            "2\n",
            "3\n",
            "4\n",
            "5\n"
          ]
        }
      ]
    },
    {
      "cell_type": "markdown",
      "source": [
        "In summary, choose a for loop when you have a known range or sequence to iterate over, and choose a while loop when you need to repeat a block of code until a specific condition becomes false.\n",
        "\n"
      ],
      "metadata": {
        "id": "oJJXP95Ev1ge"
      }
    },
    {
      "cell_type": "code",
      "source": [],
      "metadata": {
        "id": "hKQK4SFOx_Uq"
      },
      "execution_count": null,
      "outputs": []
    },
    {
      "cell_type": "markdown",
      "source": [
        "Q.2 :-   Write a python program to print the sum and product of the first 10 natural numbers using for\n",
        "and while loop."
      ],
      "metadata": {
        "id": "lL9wPUghyEc9"
      }
    },
    {
      "cell_type": "code",
      "source": [
        "# Calculate sum and product using for loop\n",
        "sum_for = 0\n",
        "product_for = 1\n",
        "\n",
        "for i in range(1, 11):\n",
        "    sum_for = sum_for + i\n",
        "    product_for = product_for * i\n",
        "\n",
        "print(\"Using for loop:\")\n",
        "print(\"Sum of the first 10 natural numbers:\", sum_for)\n",
        "print(\"Product of the first 10 natural numbers:\", product_for)\n"
      ],
      "metadata": {
        "colab": {
          "base_uri": "https://localhost:8080/"
        },
        "id": "mAe8VgKJyYjX",
        "outputId": "440e88c6-8496-4bef-e49f-b429c1af9332"
      },
      "execution_count": 16,
      "outputs": [
        {
          "output_type": "stream",
          "name": "stdout",
          "text": [
            "Using for loop:\n",
            "Sum of the first 10 natural numbers: 55\n",
            "Product of the first 10 natural numbers: 3628800\n"
          ]
        }
      ]
    },
    {
      "cell_type": "code",
      "source": [
        "# Calculate sum and product using while loop\n",
        "sum_while = 0\n",
        "product_while = 1\n",
        "counter = 1\n",
        "\n",
        "while counter <= 10:\n",
        "    sum_while += counter\n",
        "    product_while = product_while * counter\n",
        "    counter += 1\n",
        "\n",
        "print(\"\\nUsing while loop:\")\n",
        "print(\"Sum of the first 10 natural numbers:\", sum_while)\n",
        "print(\"Product of the first 10 natural numbers:\", product_while)\n"
      ],
      "metadata": {
        "colab": {
          "base_uri": "https://localhost:8080/"
        },
        "id": "LNFuuFaQzlQa",
        "outputId": "59206982-08ec-4f73-d4b1-96a6e4eba086"
      },
      "execution_count": 17,
      "outputs": [
        {
          "output_type": "stream",
          "name": "stdout",
          "text": [
            "\n",
            "Using while loop:\n",
            "Sum of the first 10 natural numbers: 55\n",
            "Product of the first 10 natural numbers: 3628800\n"
          ]
        }
      ]
    },
    {
      "cell_type": "markdown",
      "source": [
        "Q.3:- create a python program to compute the Electricity bill for a household\n",
        "The per-unit charges in rupees are as follows: For the first 100 units, the user will be charged Rs. 4.5 per\n",
        "unit, for the next 100 units, the user will be charged Rs. 6 per unit, and for the next 100 units, the user will\n",
        "be charged Rs. 10 per unit, After 300 units and above the user will be charged Rs. 20 per unit.\n",
        "\n",
        "\n",
        "You are required to take the units of electricity consumed in a month from the user as input.\n",
        "\n",
        "\n",
        "Your program must pass this test case: when the unit of electricity consumed by the user in a month is\n",
        "310, the total electricity bill should be 2250"
      ],
      "metadata": {
        "id": "_TEgFhAszQVZ"
      }
    },
    {
      "cell_type": "code",
      "source": [
        "units = int(input(\"Enter your electricity bill \"))\n",
        "\n",
        "if units <= 100:\n",
        "  pay = units * 4.5\n",
        "elif units<= 200:\n",
        "  pay = (100 * 4.5) + (units-100) * 6\n",
        "elif units<= 300:\n",
        "  pay = (100 * 4.5)+ (100*6) + (units-200)*10\n",
        "elif units>300 :\n",
        "  pay = (100 * 4.5)+ (100*6) + (100*10)+ (units-300)*20\n",
        "else :\n",
        "  units >=310\n",
        "pay\n",
        "\n"
      ],
      "metadata": {
        "colab": {
          "base_uri": "https://localhost:8080/"
        },
        "id": "Rg_gSjB1zw4Q",
        "outputId": "5438a0a4-ba10-4f0a-e778-861fd419bd7a"
      },
      "execution_count": 9,
      "outputs": [
        {
          "name": "stdout",
          "output_type": "stream",
          "text": [
            "Enter your electricity bill 310\n"
          ]
        },
        {
          "output_type": "execute_result",
          "data": {
            "text/plain": [
              "2250.0"
            ]
          },
          "metadata": {},
          "execution_count": 9
        }
      ]
    },
    {
      "cell_type": "markdown",
      "source": [
        "Q.4 :- . Create a list of numbers from 1 to 100. Use for loop and while loop to calculate the cube of each\n",
        "number and if the cube of that number is divisible by 4 or 5 then append that number in a list and print\n",
        "that list"
      ],
      "metadata": {
        "id": "iHUJNXMcg2zS"
      }
    },
    {
      "cell_type": "code",
      "source": [
        "# Using for loop\n",
        "cubes_divisible_by_4_or_5 = []\n",
        "\n",
        "for num in range(1, 101):\n",
        "    cube = num ** 3\n",
        "    if cube % 4 == 0 or cube % 5 == 0:\n",
        "        cubes_divisible_by_4_or_5.append(num)\n",
        "\n",
        "print(\"Using for loop:\")\n",
        "print(cubes_divisible_by_4_or_5)\n"
      ],
      "metadata": {
        "colab": {
          "base_uri": "https://localhost:8080/"
        },
        "id": "juQDFY3Rg9et",
        "outputId": "afa34d46-a3d0-4a74-a51a-3fbcd9c20d2f"
      },
      "execution_count": 11,
      "outputs": [
        {
          "output_type": "stream",
          "name": "stdout",
          "text": [
            "Using for loop:\n",
            "[2, 4, 5, 6, 8, 10, 12, 14, 15, 16, 18, 20, 22, 24, 25, 26, 28, 30, 32, 34, 35, 36, 38, 40, 42, 44, 45, 46, 48, 50, 52, 54, 55, 56, 58, 60, 62, 64, 65, 66, 68, 70, 72, 74, 75, 76, 78, 80, 82, 84, 85, 86, 88, 90, 92, 94, 95, 96, 98, 100]\n"
          ]
        }
      ]
    },
    {
      "cell_type": "code",
      "source": [
        "# Using while loop\n",
        "cubes_divisible_by_4_or_5_while = []\n",
        "num = 1\n",
        "\n",
        "while num <= 100:\n",
        "    cube = num ** 3\n",
        "    if cube % 4 == 0 or cube % 5 == 0:\n",
        "        cubes_divisible_by_4_or_5_while.append(num)\n",
        "    num += 1\n",
        "\n",
        "print(\"Using while loop:\")\n",
        "print(cubes_divisible_by_4_or_5_while)\n"
      ],
      "metadata": {
        "colab": {
          "base_uri": "https://localhost:8080/"
        },
        "id": "ZBJybJJNZCA5",
        "outputId": "f16adeb8-a534-4ad9-d741-869c3bc84d87"
      },
      "execution_count": 13,
      "outputs": [
        {
          "output_type": "stream",
          "name": "stdout",
          "text": [
            "Using while loop:\n",
            "[2, 4, 5, 6, 8, 10, 12, 14, 15, 16, 18, 20, 22, 24, 25, 26, 28, 30, 32, 34, 35, 36, 38, 40, 42, 44, 45, 46, 48, 50, 52, 54, 55, 56, 58, 60, 62, 64, 65, 66, 68, 70, 72, 74, 75, 76, 78, 80, 82, 84, 85, 86, 88, 90, 92, 94, 95, 96, 98, 100]\n"
          ]
        }
      ]
    },
    {
      "cell_type": "markdown",
      "source": [
        "Q.5 :-   Write a program to filter count vowels in the below-given string.\n",
        "\n",
        "string = \"I want to become a data scientist\""
      ],
      "metadata": {
        "id": "rAc8HzTZkXx4"
      }
    },
    {
      "cell_type": "code",
      "source": [
        "string = \"I want to become a data scientist\"\n",
        "vowels = \"aeiouAEIOU\"\n",
        "count = 0\n",
        "\n",
        "for char in string :\n",
        "  if char in vowels :\n",
        "    count = count + 1\n",
        "print(\"number of vowels\",count)"
      ],
      "metadata": {
        "colab": {
          "base_uri": "https://localhost:8080/"
        },
        "id": "5wcFQxPBkrnL",
        "outputId": "7202ecdc-191b-4c5b-90a1-868316b4bb0c"
      },
      "execution_count": 14,
      "outputs": [
        {
          "output_type": "stream",
          "name": "stdout",
          "text": [
            "number of vowels 12\n"
          ]
        }
      ]
    },
    {
      "cell_type": "code",
      "source": [],
      "metadata": {
        "id": "uEbkhVK2mOGc"
      },
      "execution_count": null,
      "outputs": []
    }
  ]
}